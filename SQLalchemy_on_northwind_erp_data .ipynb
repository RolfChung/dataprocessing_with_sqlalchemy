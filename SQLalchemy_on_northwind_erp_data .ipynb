{
 "cells": [
  {
   "cell_type": "markdown",
   "id": "2972f077",
   "metadata": {},
   "source": [
    "# Summary: <br>data processing with SQLAlchemy\n",
    "\n",
    "<p>\n",
    "The first part of this project SQLAlchemy is used to import the database data with the Sqlite adapter into Pandas dataframes. Several methods for this purpose are explored. The second part of this \n",
    "project is applying queries to the Northwind-data. Several \n",
    "options of SQL are explored. A particular focus is set on joining of tables.\n",
    "</p>\n",
    "\n",
    "\n",
    "<p>\n",
    "\"<b>SQLAlchemy</b> is the Python SQL toolkit and Object Relational Mapper that gives application developers the full power and flexibility of SQL.\n",
    "It provides a full suite of well known enterprise-level persistence patterns, designed for efficient and high-performing database access, adapted into a simple and Pythonic domain language.\"<br>\n",
    "<a href=\"https://www.sqlalchemy.org/\" target=\"_blank\">sqlalchemy</a> \n",
    "</p>\n",
    "\n",
    "<p>The database used here is the Northwind database in the SQLite format.<br>\n",
    "A relationship diagram of Northwind is shown below.</p>\n"
   ]
  },
  {
   "cell_type": "markdown",
   "id": "3a7ca01e",
   "metadata": {},
   "source": [
    "\n",
    "<img src=\"images/north.png\" \n",
    "alt=\"Smiley face\" height=\"600\" width=\"600\">   "
   ]
  },
  {
   "cell_type": "markdown",
   "id": "ac7079d8",
   "metadata": {},
   "source": [
    "# Import packages\n",
    "### Core packages"
   ]
  },
  {
   "cell_type": "code",
   "execution_count": 252,
   "id": "5feaf66e",
   "metadata": {},
   "outputs": [],
   "source": [
    "import pandas as pd \n",
    "import pandasql\n",
    "from pandasql import sqldf\n",
    "import os\n",
    "\n",
    "import matplotlib.pyplot as plt\n"
   ]
  },
  {
   "cell_type": "code",
   "execution_count": 253,
   "id": "ecf83cde",
   "metadata": {},
   "outputs": [],
   "source": [
    "cwd=os.getcwd()\n",
    "#cwd"
   ]
  },
  {
   "cell_type": "markdown",
   "id": "64205647",
   "metadata": {},
   "source": [
    "### Database packages: sqlalchemy"
   ]
  },
  {
   "cell_type": "code",
   "execution_count": 254,
   "id": "4449f63d",
   "metadata": {},
   "outputs": [],
   "source": [
    "from sqlalchemy import create_engine\n",
    "import sqlalchemy as alchemy\n",
    "from sqlalchemy.inspection import inspect\n",
    "from sqlalchemy.orm import sessionmaker\n",
    "from sqlalchemy import MetaData, Table\n"
   ]
  },
  {
   "cell_type": "markdown",
   "id": "f7c684c0",
   "metadata": {},
   "source": [
    "# Database processing with SQL Alchemy\n",
    "### Syntax of the SQLalchemy process\n",
    "\n",
    "<ul>\n",
    "  <li>from sqlalchemy import create_engine</li>\n",
    "  <li>engine = create_engine('sqlite:///database.sqlite'</li>\n",
    "  <li>connection = engine.connect()</li>\n",
    "  <li>query = \"SELECT * FROM table\"</li>\n",
    "  <li>result_proxy = connection.execute(query)</li>\n",
    "  <li>result = result_proxy.fetchall()</li>\n",
    "</ul> "
   ]
  },
  {
   "cell_type": "markdown",
   "id": "424a2dc6",
   "metadata": {},
   "source": [
    "### Making a session"
   ]
  },
  {
   "cell_type": "code",
   "execution_count": 255,
   "id": "ee4e2092",
   "metadata": {},
   "outputs": [],
   "source": [
    "# Session = sessionmaker()\n",
    "# engine = create_engine(CONNECTION_STRING)\n",
    "# Session.configure(bind=engine)"
   ]
  },
  {
   "cell_type": "markdown",
   "id": "f353211c",
   "metadata": {},
   "source": [
    "### Creating the connection<br>between databases and Python objects (e.g. Pandas df)"
   ]
  },
  {
   "cell_type": "code",
   "execution_count": 256,
   "id": "8d0706bf",
   "metadata": {},
   "outputs": [],
   "source": [
    "# SQLAlchemy connectable\n",
    "north_engine = \\\n",
    "create_engine('sqlite:///databasefiles/Northwind/Northwind_small.sqlite')"
   ]
  },
  {
   "cell_type": "code",
   "execution_count": 257,
   "id": "1b6c616a",
   "metadata": {},
   "outputs": [
    {
     "data": {
      "text/plain": [
       "Engine(sqlite:///databasefiles/Northwind/Northwind_small.sqlite)"
      ]
     },
     "execution_count": 257,
     "metadata": {},
     "output_type": "execute_result"
    }
   ],
   "source": [
    "north_engine"
   ]
  },
  {
   "cell_type": "code",
   "execution_count": 258,
   "id": "80dc3713",
   "metadata": {},
   "outputs": [
    {
     "data": {
      "text/plain": [
       "<sqlalchemy.engine.base.Connection at 0x1dbfad7fa88>"
      ]
     },
     "execution_count": 258,
     "metadata": {},
     "output_type": "execute_result"
    }
   ],
   "source": [
    "north_connection = north_engine.connect()\n",
    "north_connection "
   ]
  },
  {
   "cell_type": "markdown",
   "id": "eeca6fc8",
   "metadata": {},
   "source": [
    "<p>What is in the database?</p>\n",
    "\n",
    "### Getting table information\n",
    "\n",
    "<p>In sqlite calling the master gets the table names.</p>"
   ]
  },
  {
   "cell_type": "code",
   "execution_count": 259,
   "id": "a8e3f62b",
   "metadata": {},
   "outputs": [
    {
     "name": "stdout",
     "output_type": "stream",
     "text": [
      "Employee\n",
      "Category\n",
      "Customer\n",
      "Shipper\n",
      "Supplier\n",
      "Order\n",
      "Product\n",
      "OrderDetail\n",
      "CustomerCustomerDemo\n",
      "CustomerDemographic\n",
      "Region\n",
      "Territory\n",
      "EmployeeTerritory\n"
     ]
    }
   ],
   "source": [
    "north_tables = \\\n",
    "north_connection.execute(\"SELECT name FROM sqlite_master WHERE type='table';\")\n",
    "for name in north_tables.fetchall():\n",
    "    print(name[0])"
   ]
  },
  {
   "cell_type": "code",
   "execution_count": 260,
   "id": "7793958b",
   "metadata": {},
   "outputs": [
    {
     "data": {
      "text/plain": [
       "['Category',\n",
       " 'Customer',\n",
       " 'CustomerCustomerDemo',\n",
       " 'CustomerDemographic',\n",
       " 'Employee',\n",
       " 'EmployeeTerritory',\n",
       " 'Order',\n",
       " 'OrderDetail',\n",
       " 'Product',\n",
       " 'Region',\n",
       " 'Shipper',\n",
       " 'Supplier',\n",
       " 'Territory']"
      ]
     },
     "execution_count": 260,
     "metadata": {},
     "output_type": "execute_result"
    }
   ],
   "source": [
    "north_inspector = inspect(north_connection)\n",
    "north_inspector.get_table_names()"
   ]
  },
  {
   "cell_type": "markdown",
   "id": "942dbd99",
   "metadata": {},
   "source": [
    "<p>The inspect module of SQL alchemy makes it easier to get the \n",
    "information.</p>"
   ]
  },
  {
   "cell_type": "code",
   "execution_count": 261,
   "id": "fca8cdc8",
   "metadata": {},
   "outputs": [
    {
     "data": {
      "text/plain": [
       "[{'name': 'Id',\n",
       "  'type': VARCHAR(length=8000),\n",
       "  'nullable': True,\n",
       "  'default': None,\n",
       "  'autoincrement': 'auto',\n",
       "  'primary_key': 1},\n",
       " {'name': 'EmployeeId',\n",
       "  'type': INTEGER(),\n",
       "  'nullable': False,\n",
       "  'default': None,\n",
       "  'autoincrement': 'auto',\n",
       "  'primary_key': 0},\n",
       " {'name': 'TerritoryId',\n",
       "  'type': VARCHAR(length=8000),\n",
       "  'nullable': True,\n",
       "  'default': None,\n",
       "  'autoincrement': 'auto',\n",
       "  'primary_key': 0}]"
      ]
     },
     "execution_count": 261,
     "metadata": {},
     "output_type": "execute_result"
    }
   ],
   "source": [
    "north_inspector.get_columns('EmployeeTerritory')"
   ]
  },
  {
   "cell_type": "code",
   "execution_count": 262,
   "id": "00a5638a",
   "metadata": {},
   "outputs": [
    {
     "data": {
      "text/plain": [
       "[{'name': 'Id',\n",
       "  'type': INTEGER(),\n",
       "  'nullable': True,\n",
       "  'default': None,\n",
       "  'autoincrement': 'auto',\n",
       "  'primary_key': 1},\n",
       " {'name': 'ProductName',\n",
       "  'type': VARCHAR(length=8000),\n",
       "  'nullable': True,\n",
       "  'default': None,\n",
       "  'autoincrement': 'auto',\n",
       "  'primary_key': 0},\n",
       " {'name': 'SupplierId',\n",
       "  'type': INTEGER(),\n",
       "  'nullable': False,\n",
       "  'default': None,\n",
       "  'autoincrement': 'auto',\n",
       "  'primary_key': 0},\n",
       " {'name': 'CategoryId',\n",
       "  'type': INTEGER(),\n",
       "  'nullable': False,\n",
       "  'default': None,\n",
       "  'autoincrement': 'auto',\n",
       "  'primary_key': 0},\n",
       " {'name': 'QuantityPerUnit',\n",
       "  'type': VARCHAR(length=8000),\n",
       "  'nullable': True,\n",
       "  'default': None,\n",
       "  'autoincrement': 'auto',\n",
       "  'primary_key': 0},\n",
       " {'name': 'UnitPrice',\n",
       "  'type': DECIMAL(),\n",
       "  'nullable': False,\n",
       "  'default': None,\n",
       "  'autoincrement': 'auto',\n",
       "  'primary_key': 0},\n",
       " {'name': 'UnitsInStock',\n",
       "  'type': INTEGER(),\n",
       "  'nullable': False,\n",
       "  'default': None,\n",
       "  'autoincrement': 'auto',\n",
       "  'primary_key': 0},\n",
       " {'name': 'UnitsOnOrder',\n",
       "  'type': INTEGER(),\n",
       "  'nullable': False,\n",
       "  'default': None,\n",
       "  'autoincrement': 'auto',\n",
       "  'primary_key': 0},\n",
       " {'name': 'ReorderLevel',\n",
       "  'type': INTEGER(),\n",
       "  'nullable': False,\n",
       "  'default': None,\n",
       "  'autoincrement': 'auto',\n",
       "  'primary_key': 0},\n",
       " {'name': 'Discontinued',\n",
       "  'type': INTEGER(),\n",
       "  'nullable': False,\n",
       "  'default': None,\n",
       "  'autoincrement': 'auto',\n",
       "  'primary_key': 0}]"
      ]
     },
     "execution_count": 262,
     "metadata": {},
     "output_type": "execute_result"
    }
   ],
   "source": [
    "north_inspector.get_columns('Product')"
   ]
  },
  {
   "cell_type": "code",
   "execution_count": 263,
   "id": "34e2431e",
   "metadata": {},
   "outputs": [],
   "source": [
    "# north_inspector.get_columns('Supplier')"
   ]
  },
  {
   "cell_type": "markdown",
   "id": "0bd4b4ad",
   "metadata": {},
   "source": [
    "#### Metadata"
   ]
  },
  {
   "cell_type": "code",
   "execution_count": 264,
   "id": "aeb7f708",
   "metadata": {},
   "outputs": [
    {
     "name": "stdout",
     "output_type": "stream",
     "text": [
      "Table('Order', MetaData(), Column('Id', INTEGER(), table=<Order>, primary_key=True), Column('CustomerId', VARCHAR(length=8000), table=<Order>), Column('EmployeeId', INTEGER(), table=<Order>, nullable=False), Column('OrderDate', VARCHAR(length=8000), table=<Order>), Column('RequiredDate', VARCHAR(length=8000), table=<Order>), Column('ShippedDate', VARCHAR(length=8000), table=<Order>), Column('ShipVia', INTEGER(), table=<Order>), Column('Freight', DECIMAL(), table=<Order>, nullable=False), Column('ShipName', VARCHAR(length=8000), table=<Order>), Column('ShipAddress', VARCHAR(length=8000), table=<Order>), Column('ShipCity', VARCHAR(length=8000), table=<Order>), Column('ShipRegion', VARCHAR(length=8000), table=<Order>), Column('ShipPostalCode', VARCHAR(length=8000), table=<Order>), Column('ShipCountry', VARCHAR(length=8000), table=<Order>), schema=None)\n"
     ]
    }
   ],
   "source": [
    "# from sqlalchemy import MetaData, Table\n",
    "metadata_1 = MetaData()\n",
    "order_1 = Table('Order', metadata_1, autoload=True,\n",
    "                 autoload_with=north_engine)\n",
    "\n",
    "print(repr(order_1))"
   ]
  },
  {
   "cell_type": "markdown",
   "id": "07bc0cb8",
   "metadata": {},
   "source": [
    "### Importing into Pandas\n",
    "#### Importing with execute & pd.DataFrame\n",
    "<p>The conn.execute function results in tuples.<br>\n",
    "Here fetchmany is used to limit the number of records imported.</p>"
   ]
  },
  {
   "cell_type": "code",
   "execution_count": 265,
   "id": "c1be37a2",
   "metadata": {},
   "outputs": [
    {
     "data": {
      "text/plain": [
       "(1, 'Davolio', 'Nancy', 'Sales Representative', 'Ms.', '1980-12-08', '2024-05-01', '507 - 20th Ave. E. Apt. 2A', 'Seattle', 'North America', '98122', 'USA', '(206) 555-9857', '5467', None, \"Education includes a BA in psychology from Colorado State University in 1970.  She also completed 'The Art of the Cold Call.'  Nancy is a member of Toastmasters International.\", 2, 'http://accweb/emmployees/davolio.bmp')"
      ]
     },
     "execution_count": 265,
     "metadata": {},
     "output_type": "execute_result"
    }
   ],
   "source": [
    "many_employees=\\\n",
    "north_connection.execute(\"select * from Employee\").fetchmany(50)\n",
    "\n",
    "many_employees[0]"
   ]
  },
  {
   "cell_type": "code",
   "execution_count": 266,
   "id": "0787b807",
   "metadata": {},
   "outputs": [
    {
     "data": {
      "text/plain": [
       "RMKeyView(['Id', 'LastName', 'FirstName', 'Title', 'TitleOfCourtesy', 'BirthDate', 'HireDate', 'Address', 'City', 'Region', 'PostalCode', 'Country', 'HomePhone', 'Extension', 'Photo', 'Notes', 'ReportsTo', 'PhotoPath'])"
      ]
     },
     "execution_count": 266,
     "metadata": {},
     "output_type": "execute_result"
    }
   ],
   "source": [
    "many_employees_colnames=many_employees[0].keys()\n",
    "many_employees_colnames"
   ]
  },
  {
   "cell_type": "code",
   "execution_count": 267,
   "id": "5176443c",
   "metadata": {},
   "outputs": [
    {
     "name": "stdout",
     "output_type": "stream",
     "text": [
      "<class 'pandas.core.frame.DataFrame'>\n",
      "RangeIndex: 9 entries, 0 to 8\n",
      "Data columns (total 18 columns):\n",
      " #   Column           Non-Null Count  Dtype  \n",
      "---  ------           --------------  -----  \n",
      " 0   Id               9 non-null      int64  \n",
      " 1   LastName         9 non-null      object \n",
      " 2   FirstName        9 non-null      object \n",
      " 3   Title            9 non-null      object \n",
      " 4   TitleOfCourtesy  9 non-null      object \n",
      " 5   BirthDate        9 non-null      object \n",
      " 6   HireDate         9 non-null      object \n",
      " 7   Address          9 non-null      object \n",
      " 8   City             9 non-null      object \n",
      " 9   Region           9 non-null      object \n",
      " 10  PostalCode       9 non-null      object \n",
      " 11  Country          9 non-null      object \n",
      " 12  HomePhone        9 non-null      object \n",
      " 13  Extension        9 non-null      object \n",
      " 14  Photo            0 non-null      object \n",
      " 15  Notes            9 non-null      object \n",
      " 16  ReportsTo        8 non-null      float64\n",
      " 17  PhotoPath        9 non-null      object \n",
      "dtypes: float64(1), int64(1), object(16)\n",
      "memory usage: 1.4+ KB\n"
     ]
    }
   ],
   "source": [
    "many_employees_df=\\\n",
    "pd.DataFrame(many_employees, columns=many_employees_colnames)\n",
    "\n",
    "many_employees_df.info()"
   ]
  },
  {
   "cell_type": "markdown",
   "id": "2464af27",
   "metadata": {},
   "source": [
    "#### Importing with pd.read_sql_table \n",
    "<p>using conn as an argument.</p>"
   ]
  },
  {
   "cell_type": "code",
   "execution_count": 268,
   "id": "f5df5918",
   "metadata": {},
   "outputs": [
    {
     "name": "stdout",
     "output_type": "stream",
     "text": [
      "<class 'pandas.core.frame.DataFrame'>\n",
      "RangeIndex: 9 entries, 0 to 8\n",
      "Data columns (total 18 columns):\n",
      " #   Column           Non-Null Count  Dtype  \n",
      "---  ------           --------------  -----  \n",
      " 0   Id               9 non-null      int64  \n",
      " 1   LastName         9 non-null      object \n",
      " 2   FirstName        9 non-null      object \n",
      " 3   Title            9 non-null      object \n",
      " 4   TitleOfCourtesy  9 non-null      object \n",
      " 5   BirthDate        9 non-null      object \n",
      " 6   HireDate         9 non-null      object \n",
      " 7   Address          9 non-null      object \n",
      " 8   City             9 non-null      object \n",
      " 9   Region           9 non-null      object \n",
      " 10  PostalCode       9 non-null      object \n",
      " 11  Country          9 non-null      object \n",
      " 12  HomePhone        9 non-null      object \n",
      " 13  Extension        9 non-null      object \n",
      " 14  Photo            0 non-null      object \n",
      " 15  Notes            9 non-null      object \n",
      " 16  ReportsTo        8 non-null      float64\n",
      " 17  PhotoPath        9 non-null      object \n",
      "dtypes: float64(1), int64(1), object(16)\n",
      "memory usage: 1.4+ KB\n",
      "None\n"
     ]
    }
   ],
   "source": [
    "employee = pd.read_sql_table('Employee', north_connection)\n",
    "print(employee.info())"
   ]
  },
  {
   "cell_type": "markdown",
   "id": "4b666e97",
   "metadata": {},
   "source": [
    "## Querying\n",
    "<p>\n",
    "There are several to query a database on basis of SQLalchemy.<br>\n",
    "Some are discussed here:\n",
    "</p>\n",
    "\n",
    "<ul>\n",
    "  <li>SQL Alchemy functions</li>\n",
    "  <li>SQL Alchemy execute</li>\n",
    "  <li>pd.read_sql_query</li>\n",
    "  <li>Pandas SQL</li>\n",
    "</ul> \n",
    "    \n",
    "<p>\n",
    "For the main second part of this project querying \n",
    "the Northwind database in depth \"pd.read_sql_query\" is applied here.\n",
    "</p>\n",
    "\n",
    "\n",
    "### Querying databases <br>using the SQLalchemy functions\n",
    "\n"
   ]
  },
  {
   "cell_type": "code",
   "execution_count": 269,
   "id": "382d07df",
   "metadata": {},
   "outputs": [],
   "source": [
    "metadata_2 = MetaData()\n",
    "order = \\\n",
    "Table('order', metadata_2, autoload=True, autoload_with=north_engine)"
   ]
  },
  {
   "cell_type": "markdown",
   "id": "f9731e43",
   "metadata": {},
   "source": [
    "<p>Select</p>"
   ]
  },
  {
   "cell_type": "code",
   "execution_count": 270,
   "id": "7f19ab9d",
   "metadata": {},
   "outputs": [
    {
     "name": "stdout",
     "output_type": "stream",
     "text": [
      "<class 'sqlalchemy.sql.selectable.Select'>\n"
     ]
    }
   ],
   "source": [
    "order_1_query = alchemy.select([order])\n",
    "print(type(order_1_query))"
   ]
  },
  {
   "cell_type": "code",
   "execution_count": 271,
   "id": "5512663d",
   "metadata": {},
   "outputs": [
    {
     "name": "stdout",
     "output_type": "stream",
     "text": [
      "<class 'list'>\n",
      "<class 'sqlalchemy.engine.row.LegacyRow'>\n"
     ]
    }
   ],
   "source": [
    "import warnings\n",
    "\n",
    "def function():\n",
    "    warnings.warn(\"deprecated\", DeprecationWarning)\n",
    "\n",
    "with warnings.catch_warnings():\n",
    "    warnings.simplefilter(\"ignore\")\n",
    "    function()\n",
    "    order_result = north_engine.execute(order_1_query).fetchmany(100)\n",
    "\n",
    "print(type(order_result))\n",
    "print(type(order_result[0]))"
   ]
  },
  {
   "cell_type": "code",
   "execution_count": 272,
   "id": "0e613271",
   "metadata": {},
   "outputs": [
    {
     "name": "stdout",
     "output_type": "stream",
     "text": [
      "(10249, 'TOMSP', 6, '2012-07-05', '2012-08-16', '2012-07-10', 1, Decimal('11.6100000000'), 'Toms Spezialitäten', 'Luisenstr. 48', 'Münster', 'Western Europe', '44087', 'Germany')\n"
     ]
    }
   ],
   "source": [
    "print(order_result[1])"
   ]
  },
  {
   "cell_type": "code",
   "execution_count": 273,
   "id": "82a22035",
   "metadata": {},
   "outputs": [
    {
     "name": "stdout",
     "output_type": "stream",
     "text": [
      "RMKeyView(['Id', 'CustomerId', 'EmployeeId', 'OrderDate', 'RequiredDate', 'ShippedDate', 'ShipVia', 'Freight', 'ShipName', 'ShipAddress', 'ShipCity', 'ShipRegion', 'ShipPostalCode', 'ShipCountry'])\n"
     ]
    }
   ],
   "source": [
    "print(order_result[0].keys())"
   ]
  },
  {
   "cell_type": "markdown",
   "id": "66e58581",
   "metadata": {},
   "source": [
    "<p>Where</p>"
   ]
  },
  {
   "cell_type": "code",
   "execution_count": 274,
   "id": "60d6120f",
   "metadata": {},
   "outputs": [],
   "source": [
    "country_query = \\\n",
    "alchemy.select([order]).where(order.columns.ShipCountry == 'Italy')\n",
    "\n",
    "country_result = north_engine.execute(country_query ).fetchmany(100)"
   ]
  },
  {
   "cell_type": "code",
   "execution_count": 275,
   "id": "a5959c02",
   "metadata": {},
   "outputs": [
    {
     "name": "stdout",
     "output_type": "stream",
     "text": [
      "<class 'list'>\n",
      "<class 'sqlalchemy.engine.row.LegacyRow'>\n",
      "[(10275, 'MAGAA', 1, '2012-08-07', '2012-09-04', '2012-08-09', 1, Decimal('26.9300000000'), 'Magazzini Alimentari Riuniti', 'Via Ludovico il Moro 22', 'Bergamo', 'Southern Europe', '24100', 'Italy'), (10288, 'REGGC', 4, '2012-08-23', '2012-09-20', '2012-09-03', 1, Decimal('7.4500000000'), 'Reggiani Caseifici', 'Strada Provinciale 124', 'Reggio Emilia', 'Southern Europe', '42100', 'Italy')]\n"
     ]
    }
   ],
   "source": [
    "print(type(country_result))\n",
    "print(type(country_result[0]))\n",
    "print(country_result[:2])\n"
   ]
  },
  {
   "cell_type": "markdown",
   "id": "cad758c9",
   "metadata": {},
   "source": [
    "<p>Group by</p>"
   ]
  },
  {
   "cell_type": "code",
   "execution_count": 276,
   "id": "00ee1119",
   "metadata": {},
   "outputs": [
    {
     "name": "stdout",
     "output_type": "stream",
     "text": [
      "<class 'list'>\n",
      "[(16, 'Argentina'), (40, 'Austria'), (19, 'Belgium'), (83, 'Brazil')]\n"
     ]
    }
   ],
   "source": [
    "country_query_2 = \\\n",
    "alchemy.select([alchemy.func.count(order.columns.Id).label('Count'),\n",
    "                order.columns.ShipCountry]).\\\n",
    "                group_by(order.columns.ShipCountry)\n",
    "\n",
    "country_result_2 = \\\n",
    "north_engine.execute(country_query_2).fetchall()\n",
    "\n",
    "print(type(country_result_2))\n",
    "print(country_result_2[:4])\n"
   ]
  },
  {
   "cell_type": "code",
   "execution_count": 277,
   "id": "34018825",
   "metadata": {},
   "outputs": [
    {
     "data": {
      "text/html": [
       "<div>\n",
       "<style scoped>\n",
       "    .dataframe tbody tr th:only-of-type {\n",
       "        vertical-align: middle;\n",
       "    }\n",
       "\n",
       "    .dataframe tbody tr th {\n",
       "        vertical-align: top;\n",
       "    }\n",
       "\n",
       "    .dataframe thead th {\n",
       "        text-align: right;\n",
       "    }\n",
       "</style>\n",
       "<table border=\"1\" class=\"dataframe\">\n",
       "  <thead>\n",
       "    <tr style=\"text-align: right;\">\n",
       "      <th></th>\n",
       "      <th>Country</th>\n",
       "      <th>Orders</th>\n",
       "    </tr>\n",
       "  </thead>\n",
       "  <tbody>\n",
       "    <tr>\n",
       "      <th>19</th>\n",
       "      <td>USA</td>\n",
       "      <td>122</td>\n",
       "    </tr>\n",
       "    <tr>\n",
       "      <th>8</th>\n",
       "      <td>Germany</td>\n",
       "      <td>122</td>\n",
       "    </tr>\n",
       "    <tr>\n",
       "      <th>3</th>\n",
       "      <td>Brazil</td>\n",
       "      <td>83</td>\n",
       "    </tr>\n",
       "    <tr>\n",
       "      <th>7</th>\n",
       "      <td>France</td>\n",
       "      <td>77</td>\n",
       "    </tr>\n",
       "  </tbody>\n",
       "</table>\n",
       "</div>"
      ],
      "text/plain": [
       "    Country  Orders\n",
       "19      USA     122\n",
       "8   Germany     122\n",
       "3    Brazil      83\n",
       "7    France      77"
      ]
     },
     "execution_count": 277,
     "metadata": {},
     "output_type": "execute_result"
    }
   ],
   "source": [
    "orders_country= \\\n",
    "pd.DataFrame(country_result_2, columns=['Orders', 'Country']).\\\n",
    "sort_values(by='Orders', ascending=False)\n",
    "\n",
    "orders_country = orders_country.loc[:, ['Country', 'Orders']]\n",
    "\n",
    "orders_country.head(4)"
   ]
  },
  {
   "cell_type": "code",
   "execution_count": 278,
   "id": "55a1b319",
   "metadata": {},
   "outputs": [
    {
     "data": {
      "image/png": "[encoded data removed]",
      "text/plain": [
       "<Figure size 1080x360 with 1 Axes>"
      ]
     },
     "metadata": {
      "needs_background": "light"
     },
     "output_type": "display_data"
    }
   ],
   "source": [
    "orders_country.plot.bar(x='Country', figsize=(15,5), \n",
    "                        color =['g','r'] , y='Orders',\n",
    "                        legend=False, edgecolor='black', linewidth=3)\n",
    "plt.show()"
   ]
  },
  {
   "cell_type": "markdown",
   "id": "0eda9b7d",
   "metadata": {},
   "source": [
    "<p>\n",
    "Alternatively you can put the query directly into the engine, which raises the question if the Alchemy functions are really necessary.\n",
    "</p>\n",
    "\n",
    "### SQL Alchemy execute\n"
   ]
  },
  {
   "cell_type": "code",
   "execution_count": 279,
   "id": "e2b93e86",
   "metadata": {
    "scrolled": true
   },
   "outputs": [
    {
     "name": "stdout",
     "output_type": "stream",
     "text": [
      "<class 'list'>\n",
      "<class 'sqlalchemy.engine.row.LegacyRow'>\n",
      "('01730', 'Bedford', 1)\n",
      "RMKeyView(['Id', 'TerritoryDescription', 'RegionId'])\n"
     ]
    }
   ],
   "source": [
    "territory_result = \\\n",
    "north_engine.execute(\"select * from Territory\" ).fetchall()\n",
    "\n",
    "print(type(territory_result))\n",
    "print(type(territory_result[0]))\n",
    "\n",
    "print(territory_result[1])\n",
    "print(territory_result[0].keys())"
   ]
  },
  {
   "cell_type": "markdown",
   "id": "4a8bfc3b",
   "metadata": {},
   "source": [
    "#### Further modifications with Pandas merge"
   ]
  },
  {
   "cell_type": "code",
   "execution_count": 280,
   "id": "0db6bb16",
   "metadata": {},
   "outputs": [
    {
     "name": "stdout",
     "output_type": "stream",
     "text": [
      "<class 'pandas.core.frame.DataFrame'>\n",
      "RangeIndex: 53 entries, 0 to 52\n",
      "Data columns (total 3 columns):\n",
      " #   Column                Non-Null Count  Dtype \n",
      "---  ------                --------------  ----- \n",
      " 0   Id                    53 non-null     object\n",
      " 1   TerritoryDescription  53 non-null     object\n",
      " 2   RegionId              53 non-null     int64 \n",
      "dtypes: int64(1), object(2)\n",
      "memory usage: 1.4+ KB\n",
      "None\n"
     ]
    },
    {
     "data": {
      "text/html": [
       "<div>\n",
       "<style scoped>\n",
       "    .dataframe tbody tr th:only-of-type {\n",
       "        vertical-align: middle;\n",
       "    }\n",
       "\n",
       "    .dataframe tbody tr th {\n",
       "        vertical-align: top;\n",
       "    }\n",
       "\n",
       "    .dataframe thead th {\n",
       "        text-align: right;\n",
       "    }\n",
       "</style>\n",
       "<table border=\"1\" class=\"dataframe\">\n",
       "  <thead>\n",
       "    <tr style=\"text-align: right;\">\n",
       "      <th></th>\n",
       "      <th>Id</th>\n",
       "      <th>TerritoryDescription</th>\n",
       "      <th>RegionId</th>\n",
       "    </tr>\n",
       "  </thead>\n",
       "  <tbody>\n",
       "    <tr>\n",
       "      <th>0</th>\n",
       "      <td>01581</td>\n",
       "      <td>Westboro</td>\n",
       "      <td>1</td>\n",
       "    </tr>\n",
       "    <tr>\n",
       "      <th>1</th>\n",
       "      <td>01730</td>\n",
       "      <td>Bedford</td>\n",
       "      <td>1</td>\n",
       "    </tr>\n",
       "    <tr>\n",
       "      <th>2</th>\n",
       "      <td>01833</td>\n",
       "      <td>Georgetow</td>\n",
       "      <td>1</td>\n",
       "    </tr>\n",
       "    <tr>\n",
       "      <th>3</th>\n",
       "      <td>02116</td>\n",
       "      <td>Boston</td>\n",
       "      <td>1</td>\n",
       "    </tr>\n",
       "    <tr>\n",
       "      <th>4</th>\n",
       "      <td>02139</td>\n",
       "      <td>Cambridge</td>\n",
       "      <td>1</td>\n",
       "    </tr>\n",
       "  </tbody>\n",
       "</table>\n",
       "</div>"
      ],
      "text/plain": [
       "      Id TerritoryDescription  RegionId\n",
       "0  01581             Westboro         1\n",
       "1  01730              Bedford         1\n",
       "2  01833            Georgetow         1\n",
       "3  02116               Boston         1\n",
       "4  02139            Cambridge         1"
      ]
     },
     "execution_count": 280,
     "metadata": {},
     "output_type": "execute_result"
    }
   ],
   "source": [
    "territory_df = \\\n",
    "pd.DataFrame(territory_result, \n",
    "             columns=['Id', 'TerritoryDescription', 'RegionId'])\n",
    "\n",
    "print(territory_df.info())\n",
    "territory_df.head()"
   ]
  },
  {
   "cell_type": "code",
   "execution_count": 281,
   "id": "28997405",
   "metadata": {},
   "outputs": [
    {
     "name": "stdout",
     "output_type": "stream",
     "text": [
      "<class 'list'>\n",
      "<class 'sqlalchemy.engine.row.LegacyRow'>\n",
      "('1/19713', 1, '19713')\n",
      "RMKeyView(['Id', 'EmployeeId', 'TerritoryId'])\n",
      "<class 'pandas.core.frame.DataFrame'>\n",
      "RangeIndex: 49 entries, 0 to 48\n",
      "Data columns (total 3 columns):\n",
      " #   Column       Non-Null Count  Dtype \n",
      "---  ------       --------------  ----- \n",
      " 0   Id           49 non-null     object\n",
      " 1   EmployeeId   49 non-null     int64 \n",
      " 2   TerritoryId  49 non-null     object\n",
      "dtypes: int64(1), object(2)\n",
      "memory usage: 1.3+ KB\n",
      "None\n"
     ]
    }
   ],
   "source": [
    "eterritory_result = \\\n",
    "north_engine.execute(\"select * from EmployeeTerritory\" ).fetchall()\n",
    "\n",
    "print(type(eterritory_result))\n",
    "print(type(eterritory_result[0]))\n",
    "\n",
    "print(eterritory_result[1])\n",
    "print(eterritory_result[0].keys())\n",
    "\n",
    "eterritory_df = \\\n",
    "pd.DataFrame(eterritory_result, \n",
    "             columns=['Id', 'EmployeeId', 'TerritoryId'])\n",
    "\n",
    "print(eterritory_df.info())"
   ]
  },
  {
   "cell_type": "code",
   "execution_count": 282,
   "id": "939ceda5",
   "metadata": {},
   "outputs": [
    {
     "name": "stdout",
     "output_type": "stream",
     "text": [
      "eterritory df\n",
      "--------------\n"
     ]
    },
    {
     "data": {
      "text/html": [
       "<div>\n",
       "<style scoped>\n",
       "    .dataframe tbody tr th:only-of-type {\n",
       "        vertical-align: middle;\n",
       "    }\n",
       "\n",
       "    .dataframe tbody tr th {\n",
       "        vertical-align: top;\n",
       "    }\n",
       "\n",
       "    .dataframe thead th {\n",
       "        text-align: right;\n",
       "    }\n",
       "</style>\n",
       "<table border=\"1\" class=\"dataframe\">\n",
       "  <thead>\n",
       "    <tr style=\"text-align: right;\">\n",
       "      <th></th>\n",
       "      <th>Id</th>\n",
       "      <th>EmployeeId</th>\n",
       "      <th>TerritoryId</th>\n",
       "    </tr>\n",
       "  </thead>\n",
       "  <tbody>\n",
       "    <tr>\n",
       "      <th>0</th>\n",
       "      <td>1/06897</td>\n",
       "      <td>1</td>\n",
       "      <td>06897</td>\n",
       "    </tr>\n",
       "    <tr>\n",
       "      <th>1</th>\n",
       "      <td>1/19713</td>\n",
       "      <td>1</td>\n",
       "      <td>19713</td>\n",
       "    </tr>\n",
       "    <tr>\n",
       "      <th>2</th>\n",
       "      <td>2/01581</td>\n",
       "      <td>2</td>\n",
       "      <td>01581</td>\n",
       "    </tr>\n",
       "    <tr>\n",
       "      <th>3</th>\n",
       "      <td>2/01730</td>\n",
       "      <td>2</td>\n",
       "      <td>01730</td>\n",
       "    </tr>\n",
       "    <tr>\n",
       "      <th>4</th>\n",
       "      <td>2/01833</td>\n",
       "      <td>2</td>\n",
       "      <td>01833</td>\n",
       "    </tr>\n",
       "  </tbody>\n",
       "</table>\n",
       "</div>"
      ],
      "text/plain": [
       "        Id  EmployeeId TerritoryId\n",
       "0  1/06897           1       06897\n",
       "1  1/19713           1       19713\n",
       "2  2/01581           2       01581\n",
       "3  2/01730           2       01730\n",
       "4  2/01833           2       01833"
      ]
     },
     "execution_count": 282,
     "metadata": {},
     "output_type": "execute_result"
    }
   ],
   "source": [
    "print(\"eterritory df\")\n",
    "print(\"--------------\")\n",
    "eterritory_df.head()"
   ]
  },
  {
   "cell_type": "markdown",
   "id": "66f1b4bb",
   "metadata": {},
   "source": [
    "<p>Id of eterritory concatenates of RegionID and TerritoryID.</p>"
   ]
  },
  {
   "cell_type": "code",
   "execution_count": 283,
   "id": "e16126e4",
   "metadata": {},
   "outputs": [
    {
     "name": "stdout",
     "output_type": "stream",
     "text": [
      "Merged dataframe\n",
      "___________________\n"
     ]
    },
    {
     "data": {
      "text/html": [
       "<div>\n",
       "<style scoped>\n",
       "    .dataframe tbody tr th:only-of-type {\n",
       "        vertical-align: middle;\n",
       "    }\n",
       "\n",
       "    .dataframe tbody tr th {\n",
       "        vertical-align: top;\n",
       "    }\n",
       "\n",
       "    .dataframe thead th {\n",
       "        text-align: right;\n",
       "    }\n",
       "</style>\n",
       "<table border=\"1\" class=\"dataframe\">\n",
       "  <thead>\n",
       "    <tr style=\"text-align: right;\">\n",
       "      <th></th>\n",
       "      <th>Id_territory</th>\n",
       "      <th>TerritoryDescription</th>\n",
       "      <th>RegionId</th>\n",
       "      <th>Id_eterritory</th>\n",
       "      <th>EmployeeId</th>\n",
       "      <th>TerritoryId</th>\n",
       "      <th>_merge</th>\n",
       "    </tr>\n",
       "  </thead>\n",
       "  <tbody>\n",
       "    <tr>\n",
       "      <th>0</th>\n",
       "      <td>01581</td>\n",
       "      <td>Westboro</td>\n",
       "      <td>1</td>\n",
       "      <td>2/01581</td>\n",
       "      <td>2</td>\n",
       "      <td>01581</td>\n",
       "      <td>both</td>\n",
       "    </tr>\n",
       "    <tr>\n",
       "      <th>1</th>\n",
       "      <td>01730</td>\n",
       "      <td>Bedford</td>\n",
       "      <td>1</td>\n",
       "      <td>2/01730</td>\n",
       "      <td>2</td>\n",
       "      <td>01730</td>\n",
       "      <td>both</td>\n",
       "    </tr>\n",
       "    <tr>\n",
       "      <th>2</th>\n",
       "      <td>01833</td>\n",
       "      <td>Georgetow</td>\n",
       "      <td>1</td>\n",
       "      <td>2/01833</td>\n",
       "      <td>2</td>\n",
       "      <td>01833</td>\n",
       "      <td>both</td>\n",
       "    </tr>\n",
       "    <tr>\n",
       "      <th>3</th>\n",
       "      <td>02116</td>\n",
       "      <td>Boston</td>\n",
       "      <td>1</td>\n",
       "      <td>2/02116</td>\n",
       "      <td>2</td>\n",
       "      <td>02116</td>\n",
       "      <td>both</td>\n",
       "    </tr>\n",
       "    <tr>\n",
       "      <th>4</th>\n",
       "      <td>02139</td>\n",
       "      <td>Cambridge</td>\n",
       "      <td>1</td>\n",
       "      <td>2/02139</td>\n",
       "      <td>2</td>\n",
       "      <td>02139</td>\n",
       "      <td>both</td>\n",
       "    </tr>\n",
       "  </tbody>\n",
       "</table>\n",
       "</div>"
      ],
      "text/plain": [
       "  Id_territory TerritoryDescription  RegionId Id_eterritory  EmployeeId  \\\n",
       "0        01581             Westboro         1       2/01581           2   \n",
       "1        01730              Bedford         1       2/01730           2   \n",
       "2        01833            Georgetow         1       2/01833           2   \n",
       "3        02116               Boston         1       2/02116           2   \n",
       "4        02139            Cambridge         1       2/02139           2   \n",
       "\n",
       "  TerritoryId _merge  \n",
       "0       01581   both  \n",
       "1       01730   both  \n",
       "2       01833   both  \n",
       "3       02116   both  \n",
       "4       02139   both  "
      ]
     },
     "execution_count": 283,
     "metadata": {},
     "output_type": "execute_result"
    }
   ],
   "source": [
    "df_merge_eterritory =\\\n",
    "territory_df.merge(eterritory_df, \n",
    "                   left_on='Id',\n",
    "                   right_on=\"TerritoryId\", how='inner',\n",
    "                   suffixes=(\"_territory\", \"_eterritory\"),\n",
    "                   indicator=True\n",
    "                  )\n",
    "\n",
    "print(\"Merged dataframe\")\n",
    "print(\"___________________\")\n",
    "df_merge_eterritory.head()"
   ]
  },
  {
   "cell_type": "markdown",
   "id": "1a68f303",
   "metadata": {},
   "source": [
    "<p>Cols with the same name in both df are distinguished with a suffix.<br>\n",
    "Here: Id_territory, Id_eterritory.</p>"
   ]
  },
  {
   "cell_type": "markdown",
   "id": "fb4159d0",
   "metadata": {},
   "source": [
    "### Pandas SQL\n",
    "\n",
    "<p>\n",
    "allows to get subsets from a data frame by applying SQL queries.\n",
    "</p>"
   ]
  },
  {
   "cell_type": "code",
   "execution_count": 284,
   "id": "7d6bdc5f",
   "metadata": {},
   "outputs": [
    {
     "data": {
      "text/html": [
       "<div>\n",
       "<style scoped>\n",
       "    .dataframe tbody tr th:only-of-type {\n",
       "        vertical-align: middle;\n",
       "    }\n",
       "\n",
       "    .dataframe tbody tr th {\n",
       "        vertical-align: top;\n",
       "    }\n",
       "\n",
       "    .dataframe thead th {\n",
       "        text-align: right;\n",
       "    }\n",
       "</style>\n",
       "<table border=\"1\" class=\"dataframe\">\n",
       "  <thead>\n",
       "    <tr style=\"text-align: right;\">\n",
       "      <th></th>\n",
       "      <th>unique_territories</th>\n",
       "    </tr>\n",
       "  </thead>\n",
       "  <tbody>\n",
       "    <tr>\n",
       "      <th>0</th>\n",
       "      <td>52</td>\n",
       "    </tr>\n",
       "  </tbody>\n",
       "</table>\n",
       "</div>"
      ],
      "text/plain": [
       "   unique_territories\n",
       "0                  52"
      ]
     },
     "execution_count": 284,
     "metadata": {},
     "output_type": "execute_result"
    }
   ],
   "source": [
    "terri_q_2 = \\\n",
    "\"\"\"select count(distinct(TerritoryDescription)) as unique_territories\n",
    "from territory_df\"\"\"\n",
    "\n",
    "terri_q_2_view = sqldf(terri_q_2, globals())\n",
    "\n",
    "terri_q_2_view"
   ]
  },
  {
   "cell_type": "markdown",
   "id": "a6d5a43a",
   "metadata": {},
   "source": [
    "<p>The main focus is set below on pd.read_sql_query</p>\n",
    "\n",
    "## Querying the Northwind database with <br>Pandas using the SQLalchemy engine connection & native SQL queries\n",
    "\n",
    "### Building a northwind class\n",
    "<p>for streamling the query-process</p>"
   ]
  },
  {
   "cell_type": "code",
   "execution_count": 285,
   "id": "3fbce59b",
   "metadata": {},
   "outputs": [],
   "source": [
    "class north_query:   \n",
    "    \"\"\"\n",
    "    Builds instances adapted to the Northwind database\n",
    "        Attributes:\n",
    "        name: the designation of the query\n",
    "        Functions:\n",
    "        query: conduct the query, the connection is fixed\n",
    "        glimpse: infos about the pd df\n",
    "    \"\"\"\n",
    "\n",
    "    def __init__(self, name, result='x'):\n",
    "        self.name = name\n",
    "        self.result = result\n",
    "        \n",
    "    def query(self, query):\n",
    "        result = pd.read_sql_query(query, con = north_engine)\n",
    "        global result_input\n",
    "        result_input = result\n",
    "        \n",
    "        print(f'Object of {type(result)} is created.')\n",
    "        \n",
    "        return result\n",
    "    \n",
    "    def glimpse(self, df = \"placeholder\"):\n",
    "        \n",
    "        self.df = result_input\n",
    "        return type(self.df), self.df.info(), self.df.head(2)\n",
    "        \n",
    "    "
   ]
  },
  {
   "cell_type": "code",
   "execution_count": 286,
   "id": "c602d5a8",
   "metadata": {},
   "outputs": [],
   "source": [
    "# help(north_query)"
   ]
  },
  {
   "cell_type": "code",
   "execution_count": 287,
   "id": "ffedf7ca",
   "metadata": {},
   "outputs": [
    {
     "name": "stdout",
     "output_type": "stream",
     "text": [
      "<__main__.north_query object at 0x000001DBFA923908>\n",
      "orderDetails_instance\n"
     ]
    }
   ],
   "source": [
    "orderDetails_instance_1 = north_query(\"orderDetails_instance\")\n",
    "\n",
    "print(orderDetails_instance_1)\n",
    "print(orderDetails_instance_1.name)"
   ]
  },
  {
   "cell_type": "code",
   "execution_count": 288,
   "id": "533dd0bb",
   "metadata": {
    "scrolled": true
   },
   "outputs": [
    {
     "name": "stdout",
     "output_type": "stream",
     "text": [
      "Object of <class 'pandas.core.frame.DataFrame'> is created.\n"
     ]
    }
   ],
   "source": [
    "orderDetails_instance_query = \\\n",
    "\"select * from OrderDetail where UnitPrice >= 100\"\n",
    "\n",
    "orderDetails_1_results =\\\n",
    "orderDetails_instance_1.query(orderDetails_instance_query)\n",
    "\n",
    "# orderDetails_1_results.head(1)\n",
    "# orderDetails_1_results.info()"
   ]
  },
  {
   "cell_type": "code",
   "execution_count": 289,
   "id": "39b89eb6",
   "metadata": {},
   "outputs": [
    {
     "name": "stdout",
     "output_type": "stream",
     "text": [
      "<class 'pandas.core.frame.DataFrame'>\n",
      "RangeIndex: 46 entries, 0 to 45\n",
      "Data columns (total 6 columns):\n",
      " #   Column     Non-Null Count  Dtype  \n",
      "---  ------     --------------  -----  \n",
      " 0   Id         46 non-null     object \n",
      " 1   OrderId    46 non-null     int64  \n",
      " 2   ProductId  46 non-null     int64  \n",
      " 3   UnitPrice  46 non-null     float64\n",
      " 4   Quantity   46 non-null     int64  \n",
      " 5   Discount   46 non-null     float64\n",
      "dtypes: float64(2), int64(3), object(1)\n",
      "memory usage: 2.3+ KB\n"
     ]
    },
    {
     "data": {
      "text/plain": [
       "(pandas.core.frame.DataFrame,\n",
       " None,\n",
       "          Id  OrderId  ProductId  UnitPrice  Quantity  Discount\n",
       " 0  10329/38    10329         38      210.8        20      0.05\n",
       " 1  10351/38    10351         38      210.8        20      0.05)"
      ]
     },
     "execution_count": 289,
     "metadata": {},
     "output_type": "execute_result"
    }
   ],
   "source": [
    "orderDetails_instance_1.glimpse()"
   ]
  },
  {
   "cell_type": "markdown",
   "id": "d22b265e",
   "metadata": {},
   "source": [
    "### Select"
   ]
  },
  {
   "cell_type": "code",
   "execution_count": 290,
   "id": "a9f2883b",
   "metadata": {},
   "outputs": [
    {
     "name": "stdout",
     "output_type": "stream",
     "text": [
      "<class 'pandas.core.frame.DataFrame'>\n",
      "RangeIndex: 2155 entries, 0 to 2154\n",
      "Data columns (total 3 columns):\n",
      " #   Column     Non-Null Count  Dtype  \n",
      "---  ------     --------------  -----  \n",
      " 0   Id         2155 non-null   object \n",
      " 1   UnitPrice  2155 non-null   float64\n",
      " 2   Quantity   2155 non-null   int64  \n",
      "dtypes: float64(1), int64(1), object(1)\n",
      "memory usage: 50.6+ KB\n"
     ]
    }
   ],
   "source": [
    "orderDetails_1 = \\\n",
    "pd.read_sql_query('Select Id, UnitPrice, Quantity from OrderDetail',\n",
    "                   con = north_engine)\n",
    "\n",
    "orderDetails_1.info()"
   ]
  },
  {
   "cell_type": "markdown",
   "id": "48070908",
   "metadata": {},
   "source": [
    "## Joins\n",
    "### Inner joins"
   ]
  },
  {
   "cell_type": "code",
   "execution_count": 291,
   "id": "73410e0d",
   "metadata": {},
   "outputs": [],
   "source": [
    "join_1 = \\\n",
    "\"select o.Id as OrderDetailID, o.UnitPrice, \\\n",
    " o.Quantity, p.Id as ProductID, p.ProductName, \\\n",
    " o.UnitPrice * o.Quantity as FullPrice \\\n",
    " from OrderDetail as o \\\n",
    " inner join Product as p on p.Id == o.ProductId \"\n",
    "\n",
    "join_1_df = \\\n",
    "pd.read_sql_query(join_1, con=north_engine)"
   ]
  },
  {
   "cell_type": "code",
   "execution_count": 292,
   "id": "4f8d7694",
   "metadata": {},
   "outputs": [
    {
     "data": {
      "text/html": [
       "<div>\n",
       "<style scoped>\n",
       "    .dataframe tbody tr th:only-of-type {\n",
       "        vertical-align: middle;\n",
       "    }\n",
       "\n",
       "    .dataframe tbody tr th {\n",
       "        vertical-align: top;\n",
       "    }\n",
       "\n",
       "    .dataframe thead th {\n",
       "        text-align: right;\n",
       "    }\n",
       "</style>\n",
       "<table border=\"1\" class=\"dataframe\">\n",
       "  <thead>\n",
       "    <tr style=\"text-align: right;\">\n",
       "      <th></th>\n",
       "      <th>ProductName</th>\n",
       "      <th>ProductID</th>\n",
       "      <th>Quantity</th>\n",
       "      <th>UnitPrice</th>\n",
       "      <th>FullPrice</th>\n",
       "      <th>OrderDetailID</th>\n",
       "    </tr>\n",
       "  </thead>\n",
       "  <tbody>\n",
       "    <tr>\n",
       "      <th>0</th>\n",
       "      <td>Queso Cabrales</td>\n",
       "      <td>11</td>\n",
       "      <td>12</td>\n",
       "      <td>14.0</td>\n",
       "      <td>168.0</td>\n",
       "      <td>10248/11</td>\n",
       "    </tr>\n",
       "    <tr>\n",
       "      <th>1</th>\n",
       "      <td>Singaporean Hokkien Fried Mee</td>\n",
       "      <td>42</td>\n",
       "      <td>10</td>\n",
       "      <td>9.8</td>\n",
       "      <td>98.0</td>\n",
       "      <td>10248/42</td>\n",
       "    </tr>\n",
       "    <tr>\n",
       "      <th>2</th>\n",
       "      <td>Mozzarella di Giovanni</td>\n",
       "      <td>72</td>\n",
       "      <td>5</td>\n",
       "      <td>34.8</td>\n",
       "      <td>174.0</td>\n",
       "      <td>10248/72</td>\n",
       "    </tr>\n",
       "    <tr>\n",
       "      <th>3</th>\n",
       "      <td>Tofu</td>\n",
       "      <td>14</td>\n",
       "      <td>9</td>\n",
       "      <td>18.6</td>\n",
       "      <td>167.4</td>\n",
       "      <td>10249/14</td>\n",
       "    </tr>\n",
       "    <tr>\n",
       "      <th>4</th>\n",
       "      <td>Manjimup Dried Apples</td>\n",
       "      <td>51</td>\n",
       "      <td>40</td>\n",
       "      <td>42.4</td>\n",
       "      <td>1696.0</td>\n",
       "      <td>10249/51</td>\n",
       "    </tr>\n",
       "  </tbody>\n",
       "</table>\n",
       "</div>"
      ],
      "text/plain": [
       "                     ProductName  ProductID  Quantity  UnitPrice  FullPrice  \\\n",
       "0                 Queso Cabrales         11        12       14.0      168.0   \n",
       "1  Singaporean Hokkien Fried Mee         42        10        9.8       98.0   \n",
       "2         Mozzarella di Giovanni         72         5       34.8      174.0   \n",
       "3                           Tofu         14         9       18.6      167.4   \n",
       "4          Manjimup Dried Apples         51        40       42.4     1696.0   \n",
       "\n",
       "  OrderDetailID  \n",
       "0      10248/11  \n",
       "1      10248/42  \n",
       "2      10248/72  \n",
       "3      10249/14  \n",
       "4      10249/51  "
      ]
     },
     "execution_count": 292,
     "metadata": {},
     "output_type": "execute_result"
    }
   ],
   "source": [
    "reorder_columns_1 = \\\n",
    "['ProductName', 'ProductID', 'Quantity',\n",
    "'UnitPrice','FullPrice', 'OrderDetailID']\n",
    "\n",
    "join_12=join_1_df[reorder_columns_1]\n",
    "join_12.head()"
   ]
  },
  {
   "cell_type": "code",
   "execution_count": 293,
   "id": "c72df33a",
   "metadata": {},
   "outputs": [
    {
     "data": {
      "image/png": "[encoded data removed]",
      "text/plain": [
       "<Figure size 432x288 with 1 Axes>"
      ]
     },
     "metadata": {
      "needs_background": "light"
     },
     "output_type": "display_data"
    }
   ],
   "source": [
    "join_12.FullPrice.plot.box()\n",
    "plt.show()"
   ]
  },
  {
   "cell_type": "markdown",
   "id": "323610b9",
   "metadata": {},
   "source": [
    "### Left join\n",
    "\n",
    "<p>Same as above but with a left join.</p>"
   ]
  },
  {
   "cell_type": "code",
   "execution_count": 294,
   "id": "26850cc3",
   "metadata": {},
   "outputs": [
    {
     "data": {
      "text/html": [
       "<div>\n",
       "<style scoped>\n",
       "    .dataframe tbody tr th:only-of-type {\n",
       "        vertical-align: middle;\n",
       "    }\n",
       "\n",
       "    .dataframe tbody tr th {\n",
       "        vertical-align: top;\n",
       "    }\n",
       "\n",
       "    .dataframe thead th {\n",
       "        text-align: right;\n",
       "    }\n",
       "</style>\n",
       "<table border=\"1\" class=\"dataframe\">\n",
       "  <thead>\n",
       "    <tr style=\"text-align: right;\">\n",
       "      <th></th>\n",
       "      <th>ProductName</th>\n",
       "      <th>ProductID</th>\n",
       "      <th>Quantity</th>\n",
       "      <th>UnitPrice</th>\n",
       "      <th>FullPrice</th>\n",
       "      <th>OrderDetailID</th>\n",
       "    </tr>\n",
       "  </thead>\n",
       "  <tbody>\n",
       "    <tr>\n",
       "      <th>0</th>\n",
       "      <td>Queso Cabrales</td>\n",
       "      <td>11</td>\n",
       "      <td>12</td>\n",
       "      <td>14.0</td>\n",
       "      <td>168.0</td>\n",
       "      <td>10248/11</td>\n",
       "    </tr>\n",
       "    <tr>\n",
       "      <th>1</th>\n",
       "      <td>Singaporean Hokkien Fried Mee</td>\n",
       "      <td>42</td>\n",
       "      <td>10</td>\n",
       "      <td>9.8</td>\n",
       "      <td>98.0</td>\n",
       "      <td>10248/42</td>\n",
       "    </tr>\n",
       "    <tr>\n",
       "      <th>2</th>\n",
       "      <td>Mozzarella di Giovanni</td>\n",
       "      <td>72</td>\n",
       "      <td>5</td>\n",
       "      <td>34.8</td>\n",
       "      <td>174.0</td>\n",
       "      <td>10248/72</td>\n",
       "    </tr>\n",
       "    <tr>\n",
       "      <th>3</th>\n",
       "      <td>Tofu</td>\n",
       "      <td>14</td>\n",
       "      <td>9</td>\n",
       "      <td>18.6</td>\n",
       "      <td>167.4</td>\n",
       "      <td>10249/14</td>\n",
       "    </tr>\n",
       "    <tr>\n",
       "      <th>4</th>\n",
       "      <td>Manjimup Dried Apples</td>\n",
       "      <td>51</td>\n",
       "      <td>40</td>\n",
       "      <td>42.4</td>\n",
       "      <td>1696.0</td>\n",
       "      <td>10249/51</td>\n",
       "    </tr>\n",
       "  </tbody>\n",
       "</table>\n",
       "</div>"
      ],
      "text/plain": [
       "                     ProductName  ProductID  Quantity  UnitPrice  FullPrice  \\\n",
       "0                 Queso Cabrales         11        12       14.0      168.0   \n",
       "1  Singaporean Hokkien Fried Mee         42        10        9.8       98.0   \n",
       "2         Mozzarella di Giovanni         72         5       34.8      174.0   \n",
       "3                           Tofu         14         9       18.6      167.4   \n",
       "4          Manjimup Dried Apples         51        40       42.4     1696.0   \n",
       "\n",
       "  OrderDetailID  \n",
       "0      10248/11  \n",
       "1      10248/42  \n",
       "2      10248/72  \n",
       "3      10249/14  \n",
       "4      10249/51  "
      ]
     },
     "execution_count": 294,
     "metadata": {},
     "output_type": "execute_result"
    }
   ],
   "source": [
    "join_left = \\\n",
    "\"select o.Id as OrderDetailID, o.UnitPrice, \\\n",
    " o.Quantity, p.Id as ProductID, p.ProductName, \\\n",
    " o.UnitPrice * o.Quantity as FullPrice \\\n",
    " from OrderDetail as o \\\n",
    " left join Product as p on p.Id == o.ProductId \"\n",
    "\n",
    "join_left_df = \\\n",
    "pd.read_sql_query(join_left, con=north_engine)\n",
    "\n",
    "join_left_df=join_left_df[reorder_columns_1]\n",
    "join_left_df.head()"
   ]
  },
  {
   "cell_type": "markdown",
   "id": "abccaf8d",
   "metadata": {},
   "source": [
    "<p>There should be some na-values, if the data is not perfectly \n",
    "aligned with the primary and foreign keys. In the Northwind database\n",
    "this is not the case.</p>"
   ]
  },
  {
   "cell_type": "code",
   "execution_count": 295,
   "id": "ae97a0d8",
   "metadata": {},
   "outputs": [
    {
     "data": {
      "text/plain": [
       "ProductName      0\n",
       "ProductID        0\n",
       "Quantity         0\n",
       "UnitPrice        0\n",
       "FullPrice        0\n",
       "OrderDetailID    0\n",
       "dtype: int64"
      ]
     },
     "execution_count": 295,
     "metadata": {},
     "output_type": "execute_result"
    }
   ],
   "source": [
    "join_left_df.isna().sum()"
   ]
  },
  {
   "cell_type": "markdown",
   "id": "40796184",
   "metadata": {},
   "source": [
    "<p>What are the product with the highest revenue?</p>"
   ]
  },
  {
   "cell_type": "code",
   "execution_count": 296,
   "id": "8f71254c",
   "metadata": {},
   "outputs": [
    {
     "data": {
      "image/png": "[encoded data removed]",
      "text/plain": [
       "<Figure size 1080x432 with 1 Axes>"
      ]
     },
     "metadata": {
      "needs_background": "light"
     },
     "output_type": "display_data"
    }
   ],
   "source": [
    "product_gb=\\\n",
    "join_left_df.groupby('ProductName')['FullPrice'].sum().sort_values(ascending=False)\n",
    "\n",
    "product_gb[:10]\n",
    "product_gb[:10].plot(kind='bar', \n",
    "                     color=['r', 'g', 'honeydew', 'hotpink'],\n",
    "                     edgecolor='black', linewidth=3,\n",
    "                     figsize=(15,6))\n",
    "plt.show()"
   ]
  },
  {
   "cell_type": "markdown",
   "id": "c9e05935",
   "metadata": {},
   "source": [
    "### Right join\n",
    "\n",
    "<p>\n",
    "produces an error:<br>\n",
    "OperationalError: (sqlite3.OperationalError) RIGHT and FULL OUTER JOINs are not currently supported\n",
    "</p>\n",
    "\n",
    "\n",
    "<p>\n",
    "Work around is to switch tables and do a left join.\n",
    "</p>\n"
   ]
  },
  {
   "cell_type": "code",
   "execution_count": 297,
   "id": "0333ffd6",
   "metadata": {},
   "outputs": [],
   "source": [
    "# north_inspector.get_columns('Territory')\n",
    "# north_inspector.get_columns('Employee')\n",
    "# north_inspector.get_columns('Supplier')"
   ]
  },
  {
   "cell_type": "code",
   "execution_count": 298,
   "id": "98709f07",
   "metadata": {},
   "outputs": [
    {
     "name": "stdout",
     "output_type": "stream",
     "text": [
      "join_right_pseudo\n",
      "Object of <class 'pandas.core.frame.DataFrame'> is created.\n"
     ]
    },
    {
     "data": {
      "text/html": [
       "<div>\n",
       "<style scoped>\n",
       "    .dataframe tbody tr th:only-of-type {\n",
       "        vertical-align: middle;\n",
       "    }\n",
       "\n",
       "    .dataframe tbody tr th {\n",
       "        vertical-align: top;\n",
       "    }\n",
       "\n",
       "    .dataframe thead th {\n",
       "        text-align: right;\n",
       "    }\n",
       "</style>\n",
       "<table border=\"1\" class=\"dataframe\">\n",
       "  <thead>\n",
       "    <tr style=\"text-align: right;\">\n",
       "      <th></th>\n",
       "      <th>EmployeeID</th>\n",
       "      <th>FirstName</th>\n",
       "      <th>LastName</th>\n",
       "      <th>ETerritoryId</th>\n",
       "      <th>TerritoryId</th>\n",
       "    </tr>\n",
       "  </thead>\n",
       "  <tbody>\n",
       "    <tr>\n",
       "      <th>0</th>\n",
       "      <td>1</td>\n",
       "      <td>Nancy</td>\n",
       "      <td>Davolio</td>\n",
       "      <td>06897</td>\n",
       "      <td>06897</td>\n",
       "    </tr>\n",
       "    <tr>\n",
       "      <th>1</th>\n",
       "      <td>1</td>\n",
       "      <td>Nancy</td>\n",
       "      <td>Davolio</td>\n",
       "      <td>19713</td>\n",
       "      <td>19713</td>\n",
       "    </tr>\n",
       "    <tr>\n",
       "      <th>2</th>\n",
       "      <td>2</td>\n",
       "      <td>Andrew</td>\n",
       "      <td>Fuller</td>\n",
       "      <td>01581</td>\n",
       "      <td>01581</td>\n",
       "    </tr>\n",
       "    <tr>\n",
       "      <th>3</th>\n",
       "      <td>2</td>\n",
       "      <td>Andrew</td>\n",
       "      <td>Fuller</td>\n",
       "      <td>01730</td>\n",
       "      <td>01730</td>\n",
       "    </tr>\n",
       "    <tr>\n",
       "      <th>4</th>\n",
       "      <td>2</td>\n",
       "      <td>Andrew</td>\n",
       "      <td>Fuller</td>\n",
       "      <td>01833</td>\n",
       "      <td>01833</td>\n",
       "    </tr>\n",
       "  </tbody>\n",
       "</table>\n",
       "</div>"
      ],
      "text/plain": [
       "   EmployeeID FirstName LastName ETerritoryId TerritoryId\n",
       "0           1     Nancy  Davolio        06897       06897\n",
       "1           1     Nancy  Davolio        19713       19713\n",
       "2           2    Andrew   Fuller        01581       01581\n",
       "3           2    Andrew   Fuller        01730       01730\n",
       "4           2    Andrew   Fuller        01833       01833"
      ]
     },
     "execution_count": 298,
     "metadata": {},
     "output_type": "execute_result"
    }
   ],
   "source": [
    "join_right_pseudo = \\\n",
    "\"select e.Id as EmployeeID, e.FirstName, e.LastName, \\\n",
    " t.TerritoryId as ETerritoryId , x.Id as TerritoryId\\\n",
    " from Employee as e \\\n",
    " left join  EmployeeTerritory as t on \\\n",
    " t.EmployeeId = e.id  \\\n",
    " left join Territory as x on \\\n",
    " x.Id = t.TerritoryId;\"\n",
    "\n",
    "join_right_pseudo_instance = north_query('join_right_pseudo')\n",
    "print(join_right_pseudo_instance.name)\n",
    "\n",
    "join_right_pseudo_instance_df = \\\n",
    "join_right_pseudo_instance.query(join_right_pseudo)\n",
    "# join_right_pseudo_instance.glimpse()\n",
    "\n",
    "join_right_pseudo_instance_df.head(5)"
   ]
  },
  {
   "cell_type": "markdown",
   "id": "9514d32d",
   "metadata": {},
   "source": [
    "### Full join\n",
    "\n",
    "<p>\n",
    "OperationalError:<br>(sqlite3.OperationalError) \n",
    "RIGHT and FULL OUTER JOINs are not currently supported.\n",
    "</p>"
   ]
  },
  {
   "cell_type": "code",
   "execution_count": 299,
   "id": "ddcd89f7",
   "metadata": {},
   "outputs": [
    {
     "name": "stdout",
     "output_type": "stream",
     "text": [
      "join_full\n",
      "Object of <class 'pandas.core.frame.DataFrame'> is created.\n"
     ]
    },
    {
     "data": {
      "text/html": [
       "<div>\n",
       "<style scoped>\n",
       "    .dataframe tbody tr th:only-of-type {\n",
       "        vertical-align: middle;\n",
       "    }\n",
       "\n",
       "    .dataframe tbody tr th {\n",
       "        vertical-align: top;\n",
       "    }\n",
       "\n",
       "    .dataframe thead th {\n",
       "        text-align: right;\n",
       "    }\n",
       "</style>\n",
       "<table border=\"1\" class=\"dataframe\">\n",
       "  <thead>\n",
       "    <tr style=\"text-align: right;\">\n",
       "      <th></th>\n",
       "      <th>SupplierId</th>\n",
       "      <th>Id</th>\n",
       "    </tr>\n",
       "  </thead>\n",
       "  <tbody>\n",
       "    <tr>\n",
       "      <th>0</th>\n",
       "      <td>1</td>\n",
       "      <td>1</td>\n",
       "    </tr>\n",
       "    <tr>\n",
       "      <th>1</th>\n",
       "      <td>1</td>\n",
       "      <td>1</td>\n",
       "    </tr>\n",
       "  </tbody>\n",
       "</table>\n",
       "</div>"
      ],
      "text/plain": [
       "   SupplierId  Id\n",
       "0           1   1\n",
       "1           1   1"
      ]
     },
     "execution_count": 299,
     "metadata": {},
     "output_type": "execute_result"
    }
   ],
   "source": [
    "join_full = \"select p.SupplierId, s.Id \\\n",
    "             from Product as p \\\n",
    "             left join Supplier as s \\\n",
    "             on s.Id = p.SupplierId\"\n",
    "\n",
    "join_full_instance = north_query('join_full')\n",
    "print(join_full_instance.name)\n",
    "\n",
    "join_full_instance_df = \\\n",
    "join_full_instance.query(join_full)\n",
    "\n",
    "join_full_instance_df.head(2)"
   ]
  },
  {
   "cell_type": "markdown",
   "id": "9adaeb93",
   "metadata": {},
   "source": [
    "### Join with 3 tables\n",
    "\n",
    "<p>amended with a where-clause.</p>"
   ]
  },
  {
   "cell_type": "code",
   "execution_count": 300,
   "id": "e90394d8",
   "metadata": {},
   "outputs": [
    {
     "name": "stdout",
     "output_type": "stream",
     "text": [
      "<class 'pandas.core.frame.DataFrame'>\n",
      "RangeIndex: 622 entries, 0 to 621\n",
      "Data columns (total 7 columns):\n",
      " #   Column       Non-Null Count  Dtype  \n",
      "---  ------       --------------  -----  \n",
      " 0   ProductID    622 non-null    int64  \n",
      " 1   SupplierId   622 non-null    int64  \n",
      " 2   OrderID      622 non-null    object \n",
      " 3   ProductName  622 non-null    object \n",
      " 4   CompanyName  622 non-null    object \n",
      " 5   UnitPrice    622 non-null    float64\n",
      " 6   Quantity     622 non-null    int64  \n",
      "dtypes: float64(1), int64(3), object(3)\n",
      "memory usage: 34.1+ KB\n"
     ]
    },
    {
     "data": {
      "text/html": [
       "<div>\n",
       "<style scoped>\n",
       "    .dataframe tbody tr th:only-of-type {\n",
       "        vertical-align: middle;\n",
       "    }\n",
       "\n",
       "    .dataframe tbody tr th {\n",
       "        vertical-align: top;\n",
       "    }\n",
       "\n",
       "    .dataframe thead th {\n",
       "        text-align: right;\n",
       "    }\n",
       "</style>\n",
       "<table border=\"1\" class=\"dataframe\">\n",
       "  <thead>\n",
       "    <tr style=\"text-align: right;\">\n",
       "      <th></th>\n",
       "      <th>ProductID</th>\n",
       "      <th>SupplierId</th>\n",
       "      <th>OrderID</th>\n",
       "      <th>ProductName</th>\n",
       "      <th>CompanyName</th>\n",
       "      <th>UnitPrice</th>\n",
       "      <th>Quantity</th>\n",
       "    </tr>\n",
       "  </thead>\n",
       "  <tbody>\n",
       "    <tr>\n",
       "      <th>0</th>\n",
       "      <td>72</td>\n",
       "      <td>14</td>\n",
       "      <td>10248/72</td>\n",
       "      <td>Mozzarella di Giovanni</td>\n",
       "      <td>Formaggi Fortini s.r.l.</td>\n",
       "      <td>34.8</td>\n",
       "      <td>5</td>\n",
       "    </tr>\n",
       "    <tr>\n",
       "      <th>1</th>\n",
       "      <td>51</td>\n",
       "      <td>24</td>\n",
       "      <td>10249/51</td>\n",
       "      <td>Manjimup Dried Apples</td>\n",
       "      <td>G'day, Mate</td>\n",
       "      <td>42.4</td>\n",
       "      <td>40</td>\n",
       "    </tr>\n",
       "    <tr>\n",
       "      <th>2</th>\n",
       "      <td>51</td>\n",
       "      <td>24</td>\n",
       "      <td>10250/51</td>\n",
       "      <td>Manjimup Dried Apples</td>\n",
       "      <td>G'day, Mate</td>\n",
       "      <td>42.4</td>\n",
       "      <td>35</td>\n",
       "    </tr>\n",
       "  </tbody>\n",
       "</table>\n",
       "</div>"
      ],
      "text/plain": [
       "   ProductID  SupplierId   OrderID             ProductName  \\\n",
       "0         72          14  10248/72  Mozzarella di Giovanni   \n",
       "1         51          24  10249/51   Manjimup Dried Apples   \n",
       "2         51          24  10250/51   Manjimup Dried Apples   \n",
       "\n",
       "               CompanyName  UnitPrice  Quantity  \n",
       "0  Formaggi Fortini s.r.l.       34.8         5  \n",
       "1              G'day, Mate       42.4        40  \n",
       "2              G'day, Mate       42.4        35  "
      ]
     },
     "execution_count": 300,
     "metadata": {},
     "output_type": "execute_result"
    }
   ],
   "source": [
    "join_2 = \\\n",
    "\"select p.ID as ProductID, \\\n",
    " p.SupplierID, \\\n",
    " o.ID as OrderID, \\\n",
    " p.ProductName, \\\n",
    " s.CompanyName, \\\n",
    " o.UnitPrice, \\\n",
    " o.Quantity \\\n",
    " from Product as p \\\n",
    " inner join OrderDetail as o  \\\n",
    " on p.ID == o.ProductID \\\n",
    " inner join Supplier as s \\\n",
    " on s.ID == p.SupplierID \\\n",
    " where o.UnitPrice > 30\"\n",
    "\n",
    "join_2_df = \\\n",
    "pd.read_sql_query(join_2, con=north_engine)\n",
    "\n",
    "join_2_df.info()\n",
    "join_2_df.head(3)"
   ]
  },
  {
   "cell_type": "markdown",
   "id": "f0866bbc",
   "metadata": {},
   "source": [
    "### Self joins"
   ]
  },
  {
   "cell_type": "code",
   "execution_count": 301,
   "id": "a9265231",
   "metadata": {},
   "outputs": [],
   "source": [
    "self_join = \"select x.city as city_x, y.city as city_y, x.region \\\n",
    "             from Customer as x \\\n",
    "             inner join Customer as y \\\n",
    "             on x.region = y.region\""
   ]
  },
  {
   "cell_type": "code",
   "execution_count": 302,
   "id": "8f45a78b",
   "metadata": {},
   "outputs": [
    {
     "name": "stdout",
     "output_type": "stream",
     "text": [
      "<__main__.north_query object at 0x000001DBFAA2B488>\n",
      "<class '__main__.north_query'>\n"
     ]
    }
   ],
   "source": [
    "customer_selfjoin_instance = north_query(\"customer_selfjoin\")\n",
    "\n",
    "print(customer_selfjoin_instance)\n",
    "print(type(customer_selfjoin_instance))"
   ]
  },
  {
   "cell_type": "code",
   "execution_count": 303,
   "id": "feae550f",
   "metadata": {},
   "outputs": [
    {
     "name": "stdout",
     "output_type": "stream",
     "text": [
      "Object of <class 'pandas.core.frame.DataFrame'> is created.\n"
     ]
    }
   ],
   "source": [
    "customer_selfjoin_results =\\\n",
    "customer_selfjoin_instance.query(self_join)"
   ]
  },
  {
   "cell_type": "code",
   "execution_count": 304,
   "id": "a321144a",
   "metadata": {},
   "outputs": [
    {
     "name": "stdout",
     "output_type": "stream",
     "text": [
      "<class 'pandas.core.frame.DataFrame'>\n",
      "RangeIndex: 1511 entries, 0 to 1510\n",
      "Data columns (total 3 columns):\n",
      " #   Column  Non-Null Count  Dtype \n",
      "---  ------  --------------  ----- \n",
      " 0   city_x  1511 non-null   object\n",
      " 1   city_y  1511 non-null   object\n",
      " 2   Region  1511 non-null   object\n",
      "dtypes: object(3)\n",
      "memory usage: 35.5+ KB\n"
     ]
    },
    {
     "data": {
      "text/plain": [
       "(pandas.core.frame.DataFrame,\n",
       " None,\n",
       "    city_x  city_y          Region\n",
       " 0  Berlin  Aachen  Western Europe\n",
       " 1  Berlin  Berlin  Western Europe)"
      ]
     },
     "execution_count": 304,
     "metadata": {},
     "output_type": "execute_result"
    }
   ],
   "source": [
    "customer_selfjoin_instance.glimpse()"
   ]
  },
  {
   "cell_type": "code",
   "execution_count": 305,
   "id": "6775e6b7",
   "metadata": {},
   "outputs": [
    {
     "data": {
      "text/html": [
       "<div>\n",
       "<style scoped>\n",
       "    .dataframe tbody tr th:only-of-type {\n",
       "        vertical-align: middle;\n",
       "    }\n",
       "\n",
       "    .dataframe tbody tr th {\n",
       "        vertical-align: top;\n",
       "    }\n",
       "\n",
       "    .dataframe thead th {\n",
       "        text-align: right;\n",
       "    }\n",
       "</style>\n",
       "<table border=\"1\" class=\"dataframe\">\n",
       "  <thead>\n",
       "    <tr style=\"text-align: right;\">\n",
       "      <th></th>\n",
       "      <th>city_x</th>\n",
       "      <th>city_y</th>\n",
       "      <th>Region</th>\n",
       "    </tr>\n",
       "  </thead>\n",
       "  <tbody>\n",
       "    <tr>\n",
       "      <th>1506</th>\n",
       "      <td>Seattle</td>\n",
       "      <td>Walla Walla</td>\n",
       "      <td>North America</td>\n",
       "    </tr>\n",
       "    <tr>\n",
       "      <th>1507</th>\n",
       "      <td>Helsinki</td>\n",
       "      <td>Helsinki</td>\n",
       "      <td>Scandinavia</td>\n",
       "    </tr>\n",
       "    <tr>\n",
       "      <th>1508</th>\n",
       "      <td>Helsinki</td>\n",
       "      <td>Oulu</td>\n",
       "      <td>Scandinavia</td>\n",
       "    </tr>\n",
       "    <tr>\n",
       "      <th>1509</th>\n",
       "      <td>Helsinki</td>\n",
       "      <td>Stavern</td>\n",
       "      <td>Scandinavia</td>\n",
       "    </tr>\n",
       "    <tr>\n",
       "      <th>1510</th>\n",
       "      <td>Warszawa</td>\n",
       "      <td>Warszawa</td>\n",
       "      <td>Eastern Europe</td>\n",
       "    </tr>\n",
       "  </tbody>\n",
       "</table>\n",
       "</div>"
      ],
      "text/plain": [
       "        city_x       city_y          Region\n",
       "1506   Seattle  Walla Walla   North America\n",
       "1507  Helsinki     Helsinki     Scandinavia\n",
       "1508  Helsinki         Oulu     Scandinavia\n",
       "1509  Helsinki      Stavern     Scandinavia\n",
       "1510  Warszawa     Warszawa  Eastern Europe"
      ]
     },
     "execution_count": 305,
     "metadata": {},
     "output_type": "execute_result"
    }
   ],
   "source": [
    "customer_selfjoin_results.tail(5)"
   ]
  },
  {
   "cell_type": "code",
   "execution_count": 306,
   "id": "256f0174",
   "metadata": {},
   "outputs": [
    {
     "name": "stdout",
     "output_type": "stream",
     "text": [
      "product_agg\n"
     ]
    }
   ],
   "source": [
    "product_agg_instance = north_query(\"product_agg\")\n",
    "\n",
    "print(product_agg_instance.name)"
   ]
  },
  {
   "cell_type": "code",
   "execution_count": 307,
   "id": "2aabeb71",
   "metadata": {},
   "outputs": [
    {
     "name": "stdout",
     "output_type": "stream",
     "text": [
      "Object of <class 'pandas.core.frame.DataFrame'> is created.\n",
      "<class 'pandas.core.frame.DataFrame'>\n",
      "RangeIndex: 1 entries, 0 to 0\n",
      "Data columns (total 3 columns):\n",
      " #   Column          Non-Null Count  Dtype  \n",
      "---  ------          --------------  -----  \n",
      " 0   min(UnitPrice)  1 non-null      float64\n",
      " 1   max(UnitPrice)  1 non-null      float64\n",
      " 2   avg(UnitPrice)  1 non-null      float64\n",
      "dtypes: float64(3)\n",
      "memory usage: 152.0 bytes\n"
     ]
    },
    {
     "data": {
      "text/plain": [
       "(pandas.core.frame.DataFrame,\n",
       " None,\n",
       "    min(UnitPrice)  max(UnitPrice)  avg(UnitPrice)\n",
       " 0             2.5           263.5       28.866364)"
      ]
     },
     "execution_count": 307,
     "metadata": {},
     "output_type": "execute_result"
    }
   ],
   "source": [
    "product_agg_q = \\\n",
    "\"select min(UnitPrice), max(UnitPrice), avg(UnitPrice) \\\n",
    " from Product\"\n",
    "\n",
    "product_agg_view = product_agg_instance.query(product_agg_q)\n",
    "product_agg_instance.glimpse()"
   ]
  },
  {
   "cell_type": "markdown",
   "id": "cd18d091",
   "metadata": {},
   "source": [
    "### Cross joins\n",
    "\n",
    "<p>\n",
    "of all possible combinations between two keys.\n",
    "</p>\n",
    "\n",
    "<p>\n",
    "Here it is a combination of the product \n",
    "name \"Mozzarella di Giovanni\" with all supplier companies.<br>\n",
    "This does not mean the supplier companies are the producer of\n",
    "\"Mozzarella di Giovanni\". It is here simply an arrangement without meaning.\n",
    "</p>"
   ]
  },
  {
   "cell_type": "code",
   "execution_count": 308,
   "id": "bcd22317",
   "metadata": {},
   "outputs": [],
   "source": [
    "# north_inspector.get_columns('Customer')\n",
    "# north_inspector.get_columns('Order')\n",
    "# north_inspector.get_columns('Supplier')"
   ]
  },
  {
   "cell_type": "code",
   "execution_count": 309,
   "id": "d27fadd5",
   "metadata": {},
   "outputs": [
    {
     "name": "stdout",
     "output_type": "stream",
     "text": [
      "cross_join\n",
      "Object of <class 'pandas.core.frame.DataFrame'> is created.\n"
     ]
    },
    {
     "data": {
      "text/html": [
       "<div>\n",
       "<style scoped>\n",
       "    .dataframe tbody tr th:only-of-type {\n",
       "        vertical-align: middle;\n",
       "    }\n",
       "\n",
       "    .dataframe tbody tr th {\n",
       "        vertical-align: top;\n",
       "    }\n",
       "\n",
       "    .dataframe thead th {\n",
       "        text-align: right;\n",
       "    }\n",
       "</style>\n",
       "<table border=\"1\" class=\"dataframe\">\n",
       "  <thead>\n",
       "    <tr style=\"text-align: right;\">\n",
       "      <th></th>\n",
       "      <th>ProductName</th>\n",
       "      <th>SupplierProductID</th>\n",
       "      <th>SupplierSupplierId</th>\n",
       "      <th>CompanyName</th>\n",
       "    </tr>\n",
       "  </thead>\n",
       "  <tbody>\n",
       "    <tr>\n",
       "      <th>0</th>\n",
       "      <td>Mozzarella di Giovanni</td>\n",
       "      <td>14</td>\n",
       "      <td>1</td>\n",
       "      <td>Exotic Liquids</td>\n",
       "    </tr>\n",
       "    <tr>\n",
       "      <th>1</th>\n",
       "      <td>Mozzarella di Giovanni</td>\n",
       "      <td>14</td>\n",
       "      <td>2</td>\n",
       "      <td>New Orleans Cajun Delights</td>\n",
       "    </tr>\n",
       "    <tr>\n",
       "      <th>2</th>\n",
       "      <td>Mozzarella di Giovanni</td>\n",
       "      <td>14</td>\n",
       "      <td>3</td>\n",
       "      <td>Grandma Kelly's Homestead</td>\n",
       "    </tr>\n",
       "    <tr>\n",
       "      <th>3</th>\n",
       "      <td>Mozzarella di Giovanni</td>\n",
       "      <td>14</td>\n",
       "      <td>4</td>\n",
       "      <td>Tokyo Traders</td>\n",
       "    </tr>\n",
       "    <tr>\n",
       "      <th>4</th>\n",
       "      <td>Mozzarella di Giovanni</td>\n",
       "      <td>14</td>\n",
       "      <td>5</td>\n",
       "      <td>Cooperativa de Quesos 'Las Cabras'</td>\n",
       "    </tr>\n",
       "  </tbody>\n",
       "</table>\n",
       "</div>"
      ],
      "text/plain": [
       "              ProductName  SupplierProductID  SupplierSupplierId  \\\n",
       "0  Mozzarella di Giovanni                 14                   1   \n",
       "1  Mozzarella di Giovanni                 14                   2   \n",
       "2  Mozzarella di Giovanni                 14                   3   \n",
       "3  Mozzarella di Giovanni                 14                   4   \n",
       "4  Mozzarella di Giovanni                 14                   5   \n",
       "\n",
       "                          CompanyName  \n",
       "0                      Exotic Liquids  \n",
       "1          New Orleans Cajun Delights  \n",
       "2           Grandma Kelly's Homestead  \n",
       "3                       Tokyo Traders  \n",
       "4  Cooperativa de Quesos 'Las Cabras'  "
      ]
     },
     "execution_count": 309,
     "metadata": {},
     "output_type": "execute_result"
    }
   ],
   "source": [
    "cross_join = \"select p.ProductName, p.SupplierId as SupplierProductID,\\\n",
    "             s.Id as SupplierSupplierId, \\\n",
    "             s.CompanyName \\\n",
    "             from Product as p \\\n",
    "             cross join Supplier as s \\\n",
    "             where p.ProductName = 'Mozzarella di Giovanni'\\\n",
    "             \"\n",
    "\n",
    "cross_join_instance = north_query('cross_join')\n",
    "print(cross_join_instance.name)\n",
    "\n",
    "cross_join_instance_df = \\\n",
    "cross_join_instance.query(cross_join)\n",
    "\n",
    "cross_join_instance_df.head(5)"
   ]
  },
  {
   "cell_type": "code",
   "execution_count": 310,
   "id": "c295ddf2",
   "metadata": {},
   "outputs": [
    {
     "data": {
      "text/html": [
       "<div>\n",
       "<style scoped>\n",
       "    .dataframe tbody tr th:only-of-type {\n",
       "        vertical-align: middle;\n",
       "    }\n",
       "\n",
       "    .dataframe tbody tr th {\n",
       "        vertical-align: top;\n",
       "    }\n",
       "\n",
       "    .dataframe thead th {\n",
       "        text-align: right;\n",
       "    }\n",
       "</style>\n",
       "<table border=\"1\" class=\"dataframe\">\n",
       "  <thead>\n",
       "    <tr style=\"text-align: right;\">\n",
       "      <th></th>\n",
       "      <th>ProductName</th>\n",
       "      <th>SupplierProductID</th>\n",
       "      <th>SupplierSupplierId</th>\n",
       "      <th>CompanyName</th>\n",
       "    </tr>\n",
       "  </thead>\n",
       "  <tbody>\n",
       "    <tr>\n",
       "      <th>24</th>\n",
       "      <td>Mozzarella di Giovanni</td>\n",
       "      <td>14</td>\n",
       "      <td>25</td>\n",
       "      <td>Ma Maison</td>\n",
       "    </tr>\n",
       "    <tr>\n",
       "      <th>25</th>\n",
       "      <td>Mozzarella di Giovanni</td>\n",
       "      <td>14</td>\n",
       "      <td>26</td>\n",
       "      <td>Pasta Buttini s.r.l.</td>\n",
       "    </tr>\n",
       "    <tr>\n",
       "      <th>26</th>\n",
       "      <td>Mozzarella di Giovanni</td>\n",
       "      <td>14</td>\n",
       "      <td>27</td>\n",
       "      <td>Escargots Nouveaux</td>\n",
       "    </tr>\n",
       "    <tr>\n",
       "      <th>27</th>\n",
       "      <td>Mozzarella di Giovanni</td>\n",
       "      <td>14</td>\n",
       "      <td>28</td>\n",
       "      <td>Gai pâturage</td>\n",
       "    </tr>\n",
       "    <tr>\n",
       "      <th>28</th>\n",
       "      <td>Mozzarella di Giovanni</td>\n",
       "      <td>14</td>\n",
       "      <td>29</td>\n",
       "      <td>Forêts d'érables</td>\n",
       "    </tr>\n",
       "  </tbody>\n",
       "</table>\n",
       "</div>"
      ],
      "text/plain": [
       "               ProductName  SupplierProductID  SupplierSupplierId  \\\n",
       "24  Mozzarella di Giovanni                 14                  25   \n",
       "25  Mozzarella di Giovanni                 14                  26   \n",
       "26  Mozzarella di Giovanni                 14                  27   \n",
       "27  Mozzarella di Giovanni                 14                  28   \n",
       "28  Mozzarella di Giovanni                 14                  29   \n",
       "\n",
       "             CompanyName  \n",
       "24             Ma Maison  \n",
       "25  Pasta Buttini s.r.l.  \n",
       "26    Escargots Nouveaux  \n",
       "27          Gai pâturage  \n",
       "28      Forêts d'érables  "
      ]
     },
     "execution_count": 310,
     "metadata": {},
     "output_type": "execute_result"
    }
   ],
   "source": [
    "cross_join_instance_df.tail(5)"
   ]
  },
  {
   "cell_type": "markdown",
   "id": "2c19b52d",
   "metadata": {},
   "source": [
    "<p>The productid 14 is combined with all supplier id's.</p>"
   ]
  },
  {
   "cell_type": "code",
   "execution_count": 311,
   "id": "8fcccc72",
   "metadata": {},
   "outputs": [
    {
     "name": "stdout",
     "output_type": "stream",
     "text": [
      "[14]\n",
      "[ 1  2  3  4  5  6  7  8  9 10 11 12 13 14 15 16 17 18 19 20 21 22 23 24\n",
      " 25 26 27 28 29]\n"
     ]
    }
   ],
   "source": [
    "print(cross_join_instance_df.SupplierProductID.unique())\n",
    "print(cross_join_instance_df.SupplierSupplierId.unique())"
   ]
  },
  {
   "cell_type": "markdown",
   "id": "d711674b",
   "metadata": {},
   "source": [
    "### Union\n",
    "\n",
    "<p>returns all records (potentially duplicates) in both tables.</p>\n",
    "\n",
    "<p>\n",
    "Here of customers and employees, which gives the cities and regions,\n",
    "where the customers are and the cities and regions,\n",
    "where the employees are, which could be for whatever reason be\n",
    "something someone wants to know.\n",
    "</p>"
   ]
  },
  {
   "cell_type": "code",
   "execution_count": 312,
   "id": "4f751b26",
   "metadata": {},
   "outputs": [
    {
     "name": "stdout",
     "output_type": "stream",
     "text": [
      "union\n",
      "Object of <class 'pandas.core.frame.DataFrame'> is created.\n"
     ]
    },
    {
     "data": {
      "text/html": [
       "<div>\n",
       "<style scoped>\n",
       "    .dataframe tbody tr th:only-of-type {\n",
       "        vertical-align: middle;\n",
       "    }\n",
       "\n",
       "    .dataframe tbody tr th {\n",
       "        vertical-align: top;\n",
       "    }\n",
       "\n",
       "    .dataframe thead th {\n",
       "        text-align: right;\n",
       "    }\n",
       "</style>\n",
       "<table border=\"1\" class=\"dataframe\">\n",
       "  <thead>\n",
       "    <tr style=\"text-align: right;\">\n",
       "      <th></th>\n",
       "      <th>City</th>\n",
       "      <th>Region</th>\n",
       "    </tr>\n",
       "  </thead>\n",
       "  <tbody>\n",
       "    <tr>\n",
       "      <th>0</th>\n",
       "      <td>Cork</td>\n",
       "      <td>British Isles</td>\n",
       "    </tr>\n",
       "    <tr>\n",
       "      <th>1</th>\n",
       "      <td>Cowes</td>\n",
       "      <td>British Isles</td>\n",
       "    </tr>\n",
       "    <tr>\n",
       "      <th>2</th>\n",
       "      <td>London</td>\n",
       "      <td>British Isles</td>\n",
       "    </tr>\n",
       "    <tr>\n",
       "      <th>3</th>\n",
       "      <td>México D.F.</td>\n",
       "      <td>Central America</td>\n",
       "    </tr>\n",
       "    <tr>\n",
       "      <th>4</th>\n",
       "      <td>Warszawa</td>\n",
       "      <td>Eastern Europe</td>\n",
       "    </tr>\n",
       "  </tbody>\n",
       "</table>\n",
       "</div>"
      ],
      "text/plain": [
       "          City           Region\n",
       "0         Cork    British Isles\n",
       "1        Cowes    British Isles\n",
       "2       London    British Isles\n",
       "3  México D.F.  Central America\n",
       "4     Warszawa   Eastern Europe"
      ]
     },
     "execution_count": 312,
     "metadata": {},
     "output_type": "execute_result"
    }
   ],
   "source": [
    "union = \"select city, region from employee \\\n",
    "         union \\\n",
    "         select city, region from customer \\\n",
    "         order by region\"\n",
    "\n",
    "\n",
    "union_instance = north_query('union')\n",
    "print(union_instance.name)\n",
    "\n",
    "union_instance_df = \\\n",
    "union_instance.query(union)\n",
    "\n",
    "union_instance_df.head(5)"
   ]
  },
  {
   "cell_type": "markdown",
   "id": "8e4193f2",
   "metadata": {},
   "source": [
    "#### Intersect\n",
    "<p>returns only records appearing in both tables.</p>"
   ]
  },
  {
   "cell_type": "code",
   "execution_count": 313,
   "id": "d7fe5226",
   "metadata": {},
   "outputs": [
    {
     "name": "stdout",
     "output_type": "stream",
     "text": [
      "intersect\n",
      "Object of <class 'pandas.core.frame.DataFrame'> is created.\n"
     ]
    },
    {
     "data": {
      "text/html": [
       "<div>\n",
       "<style scoped>\n",
       "    .dataframe tbody tr th:only-of-type {\n",
       "        vertical-align: middle;\n",
       "    }\n",
       "\n",
       "    .dataframe tbody tr th {\n",
       "        vertical-align: top;\n",
       "    }\n",
       "\n",
       "    .dataframe thead th {\n",
       "        text-align: right;\n",
       "    }\n",
       "</style>\n",
       "<table border=\"1\" class=\"dataframe\">\n",
       "  <thead>\n",
       "    <tr style=\"text-align: right;\">\n",
       "      <th></th>\n",
       "      <th>City</th>\n",
       "      <th>Region</th>\n",
       "    </tr>\n",
       "  </thead>\n",
       "  <tbody>\n",
       "    <tr>\n",
       "      <th>0</th>\n",
       "      <td>London</td>\n",
       "      <td>British Isles</td>\n",
       "    </tr>\n",
       "    <tr>\n",
       "      <th>1</th>\n",
       "      <td>Kirkland</td>\n",
       "      <td>North America</td>\n",
       "    </tr>\n",
       "    <tr>\n",
       "      <th>2</th>\n",
       "      <td>Seattle</td>\n",
       "      <td>North America</td>\n",
       "    </tr>\n",
       "  </tbody>\n",
       "</table>\n",
       "</div>"
      ],
      "text/plain": [
       "       City         Region\n",
       "0    London  British Isles\n",
       "1  Kirkland  North America\n",
       "2   Seattle  North America"
      ]
     },
     "execution_count": 313,
     "metadata": {},
     "output_type": "execute_result"
    }
   ],
   "source": [
    "intersect = \"select city, region from employee \\\n",
    "             intersect \\\n",
    "             select city, region from customer \\\n",
    "             order by region\"\n",
    "\n",
    "\n",
    "intersect_instance = north_query('intersect')\n",
    "print(intersect_instance.name)\n",
    "\n",
    "intersect_instance_df = \\\n",
    "intersect_instance.query(intersect)\n",
    "\n",
    "intersect_instance_df.head(5)"
   ]
  },
  {
   "cell_type": "code",
   "execution_count": 314,
   "id": "f1cac7e2",
   "metadata": {},
   "outputs": [
    {
     "name": "stdout",
     "output_type": "stream",
     "text": [
      "Intersect: (3, 2)\n",
      "Union: (71, 2)\n"
     ]
    }
   ],
   "source": [
    "print(f'Intersect: {intersect_instance_df.shape}')\n",
    "print(f'Union: {union_instance_df.shape}')"
   ]
  },
  {
   "cell_type": "markdown",
   "id": "359f0ca1",
   "metadata": {},
   "source": [
    "### Subqueries\n",
    "#### Subqueries in where-clause"
   ]
  },
  {
   "cell_type": "code",
   "execution_count": 315,
   "id": "df14119f",
   "metadata": {},
   "outputs": [],
   "source": [
    "# north_inspector.get_columns('Product')"
   ]
  },
  {
   "cell_type": "code",
   "execution_count": 316,
   "id": "5dd46186",
   "metadata": {},
   "outputs": [
    {
     "name": "stdout",
     "output_type": "stream",
     "text": [
      "subquery_where\n",
      "Object of <class 'pandas.core.frame.DataFrame'> is created.\n"
     ]
    },
    {
     "data": {
      "text/html": [
       "<div>\n",
       "<style scoped>\n",
       "    .dataframe tbody tr th:only-of-type {\n",
       "        vertical-align: middle;\n",
       "    }\n",
       "\n",
       "    .dataframe tbody tr th {\n",
       "        vertical-align: top;\n",
       "    }\n",
       "\n",
       "    .dataframe thead th {\n",
       "        text-align: right;\n",
       "    }\n",
       "</style>\n",
       "<table border=\"1\" class=\"dataframe\">\n",
       "  <thead>\n",
       "    <tr style=\"text-align: right;\">\n",
       "      <th></th>\n",
       "      <th>ProductName</th>\n",
       "      <th>UnitPrice</th>\n",
       "    </tr>\n",
       "  </thead>\n",
       "  <tbody>\n",
       "    <tr>\n",
       "      <th>0</th>\n",
       "      <td>Chai</td>\n",
       "      <td>18.00</td>\n",
       "    </tr>\n",
       "    <tr>\n",
       "      <th>1</th>\n",
       "      <td>Chang</td>\n",
       "      <td>19.00</td>\n",
       "    </tr>\n",
       "    <tr>\n",
       "      <th>2</th>\n",
       "      <td>Aniseed Syrup</td>\n",
       "      <td>10.00</td>\n",
       "    </tr>\n",
       "    <tr>\n",
       "      <th>3</th>\n",
       "      <td>Chef Anton's Cajun Seasoning</td>\n",
       "      <td>22.00</td>\n",
       "    </tr>\n",
       "    <tr>\n",
       "      <th>4</th>\n",
       "      <td>Chef Anton's Gumbo Mix</td>\n",
       "      <td>21.35</td>\n",
       "    </tr>\n",
       "  </tbody>\n",
       "</table>\n",
       "</div>"
      ],
      "text/plain": [
       "                    ProductName  UnitPrice\n",
       "0                          Chai      18.00\n",
       "1                         Chang      19.00\n",
       "2                 Aniseed Syrup      10.00\n",
       "3  Chef Anton's Cajun Seasoning      22.00\n",
       "4        Chef Anton's Gumbo Mix      21.35"
      ]
     },
     "execution_count": 316,
     "metadata": {},
     "output_type": "execute_result"
    }
   ],
   "source": [
    "subquery_where = \\\n",
    "\"select ProductName, UnitPrice from Product \\\n",
    " where UnitPrice < (select AVG(UnitPrice) from product)\"\n",
    "\n",
    "\n",
    "subquery_where_instance = north_query('subquery_where')\n",
    "print(subquery_where_instance.name)\n",
    "\n",
    "subquery_where_instance_df = \\\n",
    "subquery_where_instance.query(subquery_where)\n",
    "\n",
    "subquery_where_instance_df.head(5)"
   ]
  },
  {
   "cell_type": "markdown",
   "id": "8a8073c7",
   "metadata": {},
   "source": [
    "<p>Checking</p>"
   ]
  },
  {
   "cell_type": "code",
   "execution_count": 317,
   "id": "bcde130e",
   "metadata": {},
   "outputs": [
    {
     "name": "stdout",
     "output_type": "stream",
     "text": [
      "Average unit price: 28.866364\n",
      "Max unit price here: 28.5\n"
     ]
    }
   ],
   "source": [
    "print(f'Average unit price: {28.866364}')\n",
    "print(f'Max unit price here: {subquery_where_instance_df.UnitPrice.max()}')"
   ]
  },
  {
   "cell_type": "markdown",
   "id": "d35bd0a6",
   "metadata": {},
   "source": [
    "#### Semi join\n",
    "<p>selects values of column based on a where condition.</p>"
   ]
  },
  {
   "cell_type": "code",
   "execution_count": 318,
   "id": "7c8ac87c",
   "metadata": {},
   "outputs": [
    {
     "name": "stdout",
     "output_type": "stream",
     "text": [
      "subquery_semijoin\n",
      "Object of <class 'pandas.core.frame.DataFrame'> is created.\n"
     ]
    },
    {
     "data": {
      "text/html": [
       "<div>\n",
       "<style scoped>\n",
       "    .dataframe tbody tr th:only-of-type {\n",
       "        vertical-align: middle;\n",
       "    }\n",
       "\n",
       "    .dataframe tbody tr th {\n",
       "        vertical-align: top;\n",
       "    }\n",
       "\n",
       "    .dataframe thead th {\n",
       "        text-align: right;\n",
       "    }\n",
       "</style>\n",
       "<table border=\"1\" class=\"dataframe\">\n",
       "  <thead>\n",
       "    <tr style=\"text-align: right;\">\n",
       "      <th></th>\n",
       "      <th>SupplierId</th>\n",
       "      <th>CompanyName</th>\n",
       "      <th>Region</th>\n",
       "    </tr>\n",
       "  </thead>\n",
       "  <tbody>\n",
       "    <tr>\n",
       "      <th>0</th>\n",
       "      <td>1</td>\n",
       "      <td>Exotic Liquids</td>\n",
       "      <td>British Isles</td>\n",
       "    </tr>\n",
       "    <tr>\n",
       "      <th>1</th>\n",
       "      <td>2</td>\n",
       "      <td>New Orleans Cajun Delights</td>\n",
       "      <td>North America</td>\n",
       "    </tr>\n",
       "    <tr>\n",
       "      <th>2</th>\n",
       "      <td>3</td>\n",
       "      <td>Grandma Kelly's Homestead</td>\n",
       "      <td>North America</td>\n",
       "    </tr>\n",
       "    <tr>\n",
       "      <th>3</th>\n",
       "      <td>4</td>\n",
       "      <td>Tokyo Traders</td>\n",
       "      <td>Eastern Asia</td>\n",
       "    </tr>\n",
       "    <tr>\n",
       "      <th>4</th>\n",
       "      <td>5</td>\n",
       "      <td>Cooperativa de Quesos 'Las Cabras'</td>\n",
       "      <td>Southern Europe</td>\n",
       "    </tr>\n",
       "  </tbody>\n",
       "</table>\n",
       "</div>"
      ],
      "text/plain": [
       "   SupplierId                         CompanyName           Region\n",
       "0           1                      Exotic Liquids    British Isles\n",
       "1           2          New Orleans Cajun Delights    North America\n",
       "2           3           Grandma Kelly's Homestead    North America\n",
       "3           4                       Tokyo Traders     Eastern Asia\n",
       "4           5  Cooperativa de Quesos 'Las Cabras'  Southern Europe"
      ]
     },
     "execution_count": 318,
     "metadata": {},
     "output_type": "execute_result"
    }
   ],
   "source": [
    "subquery_semijoin = \\\n",
    "\"select Id as SupplierId, CompanyName, Region \\\n",
    " from supplier where Id in \\\n",
    "(select SupplierId from Product \\\n",
    " where UnitPrice < 100)\"\n",
    "\n",
    "\n",
    "subquery_semijoin_instance = north_query('subquery_semijoin')\n",
    "print(subquery_semijoin_instance.name)\n",
    "\n",
    "subquery_semijoin_instance_df = \\\n",
    "subquery_semijoin_instance.query(subquery_semijoin)\n",
    "\n",
    "subquery_semijoin_instance_df.head(5)"
   ]
  },
  {
   "cell_type": "code",
   "execution_count": 319,
   "id": "5c54d73d",
   "metadata": {},
   "outputs": [],
   "source": [
    "# north_inspector.get_columns('Product')"
   ]
  },
  {
   "cell_type": "markdown",
   "id": "3ecb00aa",
   "metadata": {},
   "source": [
    "#### Subqueries in select-clause\n",
    "<p>creating the selecting variable in the subquery.</p>"
   ]
  },
  {
   "cell_type": "code",
   "execution_count": 320,
   "id": "04c78095",
   "metadata": {},
   "outputs": [
    {
     "name": "stdout",
     "output_type": "stream",
     "text": [
      "subquery_select\n",
      "Object of <class 'pandas.core.frame.DataFrame'> is created.\n"
     ]
    },
    {
     "data": {
      "text/html": [
       "<div>\n",
       "<style scoped>\n",
       "    .dataframe tbody tr th:only-of-type {\n",
       "        vertical-align: middle;\n",
       "    }\n",
       "\n",
       "    .dataframe tbody tr th {\n",
       "        vertical-align: top;\n",
       "    }\n",
       "\n",
       "    .dataframe thead th {\n",
       "        text-align: right;\n",
       "    }\n",
       "</style>\n",
       "<table border=\"1\" class=\"dataframe\">\n",
       "  <thead>\n",
       "    <tr style=\"text-align: right;\">\n",
       "      <th></th>\n",
       "      <th>SupplierID</th>\n",
       "      <th>Supplier_name</th>\n",
       "      <th>n_products_by_supplier</th>\n",
       "    </tr>\n",
       "  </thead>\n",
       "  <tbody>\n",
       "    <tr>\n",
       "      <th>11</th>\n",
       "      <td>12</td>\n",
       "      <td>Plutzer Lebensmittelgroßmärkte AG</td>\n",
       "      <td>5</td>\n",
       "    </tr>\n",
       "    <tr>\n",
       "      <th>6</th>\n",
       "      <td>7</td>\n",
       "      <td>Pavlova, Ltd.</td>\n",
       "      <td>5</td>\n",
       "    </tr>\n",
       "    <tr>\n",
       "      <th>7</th>\n",
       "      <td>8</td>\n",
       "      <td>Specialty Biscuits, Ltd.</td>\n",
       "      <td>4</td>\n",
       "    </tr>\n",
       "    <tr>\n",
       "      <th>1</th>\n",
       "      <td>2</td>\n",
       "      <td>New Orleans Cajun Delights</td>\n",
       "      <td>4</td>\n",
       "    </tr>\n",
       "    <tr>\n",
       "      <th>0</th>\n",
       "      <td>1</td>\n",
       "      <td>Exotic Liquids</td>\n",
       "      <td>3</td>\n",
       "    </tr>\n",
       "  </tbody>\n",
       "</table>\n",
       "</div>"
      ],
      "text/plain": [
       "    SupplierID                      Supplier_name  n_products_by_supplier\n",
       "11          12  Plutzer Lebensmittelgroßmärkte AG                       5\n",
       "6            7                      Pavlova, Ltd.                       5\n",
       "7            8           Specialty Biscuits, Ltd.                       4\n",
       "1            2         New Orleans Cajun Delights                       4\n",
       "0            1                     Exotic Liquids                       3"
      ]
     },
     "execution_count": 320,
     "metadata": {},
     "output_type": "execute_result"
    }
   ],
   "source": [
    "subquery_select = \\\n",
    "  \"select s.Id as SupplierID, s.CompanyName as Supplier_name, \\\n",
    " (select count(*) from Product as p \\\n",
    "  where p.SupplierId = s.Id) \\\n",
    "  as n_products_by_supplier \\\n",
    "  from Supplier as s\"\n",
    "\n",
    "\n",
    "subquery_select_instance = north_query('subquery_select')\n",
    "print(subquery_select_instance.name)\n",
    "\n",
    "subquery_select_instance_df = \\\n",
    "subquery_select_instance.query(subquery_select)\n",
    "\n",
    "subquery_select_instance_df.\\\n",
    "sort_values(by='n_products_by_supplier', ascending=False).head(5)"
   ]
  },
  {
   "cell_type": "markdown",
   "id": "2b381648",
   "metadata": {},
   "source": [
    "#### Subquery in From clause"
   ]
  },
  {
   "cell_type": "code",
   "execution_count": 321,
   "id": "5a376e94",
   "metadata": {},
   "outputs": [
    {
     "name": "stdout",
     "output_type": "stream",
     "text": [
      "subquery_from\n",
      "Object of <class 'pandas.core.frame.DataFrame'> is created.\n"
     ]
    },
    {
     "data": {
      "text/html": [
       "<div>\n",
       "<style scoped>\n",
       "    .dataframe tbody tr th:only-of-type {\n",
       "        vertical-align: middle;\n",
       "    }\n",
       "\n",
       "    .dataframe tbody tr th {\n",
       "        vertical-align: top;\n",
       "    }\n",
       "\n",
       "    .dataframe thead th {\n",
       "        text-align: right;\n",
       "    }\n",
       "</style>\n",
       "<table border=\"1\" class=\"dataframe\">\n",
       "  <thead>\n",
       "    <tr style=\"text-align: right;\">\n",
       "      <th></th>\n",
       "      <th>Scity</th>\n",
       "      <th>Ecity</th>\n",
       "      <th>n</th>\n",
       "    </tr>\n",
       "  </thead>\n",
       "  <tbody>\n",
       "    <tr>\n",
       "      <th>0</th>\n",
       "      <td>London</td>\n",
       "      <td>London</td>\n",
       "      <td>4</td>\n",
       "    </tr>\n",
       "  </tbody>\n",
       "</table>\n",
       "</div>"
      ],
      "text/plain": [
       "    Scity   Ecity  n\n",
       "0  London  London  4"
      ]
     },
     "execution_count": 321,
     "metadata": {},
     "output_type": "execute_result"
    }
   ],
   "source": [
    "subquery_from = \\\n",
    "\"select s.city as Scity, e.city as Ecity, Count(*) as n \\\n",
    " from Supplier as s, (select city from Employee) as e \\\n",
    " where s.city = e.city \\\n",
    " group by s.city \\\n",
    " order by n desc \\\n",
    "\"\n",
    "\n",
    "subquery_from_instance = north_query('subquery_from')\n",
    "print(subquery_from_instance.name)\n",
    "\n",
    "subquery_from_instance_df = \\\n",
    "subquery_from_instance.query(subquery_from)\n",
    "\n",
    "subquery_from_instance_df"
   ]
  },
  {
   "cell_type": "markdown",
   "id": "eb413d9a",
   "metadata": {},
   "source": [
    "<p>London is home of 4 suppliers and employees.</p>"
   ]
  },
  {
   "cell_type": "markdown",
   "id": "91dc1d30",
   "metadata": {},
   "source": [
    "### Exporting pandas df into SQL\n"
   ]
  },
  {
   "cell_type": "code",
   "execution_count": 322,
   "id": "20877d88",
   "metadata": {},
   "outputs": [],
   "source": [
    "engine_tosql = create_engine('sqlite://', echo=False)\n",
    "employee.to_sql('employee_sql', con=engine_tosql)"
   ]
  },
  {
   "cell_type": "code",
   "execution_count": 323,
   "id": "64d079d9",
   "metadata": {},
   "outputs": [],
   "source": [
    "query_1=\\\n",
    "engine_tosql.execute(\"SELECT * FROM employee_sql LIMIT 1\").fetchall()"
   ]
  },
  {
   "cell_type": "code",
   "execution_count": 324,
   "id": "b4502f7e",
   "metadata": {},
   "outputs": [
    {
     "data": {
      "text/plain": [
       "[(0, 1, 'Davolio', 'Nancy', 'Sales Representative', 'Ms.', '1980-12-08', '2024-05-01', '507 - 20th Ave. E. Apt. 2A', 'Seattle', 'North America', '98122', 'USA', '(206) 555-9857', '5467', None, \"Education includes a BA in psychology from Colorado State University in 1970.  She also completed 'The Art of the Cold Call.'  Nancy is a member of Toastmasters International.\", 2.0, 'http://accweb/emmployees/davolio.bmp')]"
      ]
     },
     "execution_count": 324,
     "metadata": {},
     "output_type": "execute_result"
    }
   ],
   "source": [
    "query_1"
   ]
  },
  {
   "cell_type": "code",
   "execution_count": null,
   "id": "ec5c250e",
   "metadata": {},
   "outputs": [],
   "source": []
  }
 ],
 "metadata": {
  "kernelspec": {
   "display_name": "Python 3 (ipykernel)",
   "language": "python",
   "name": "python3"
  },
  "language_info": {
   "codemirror_mode": {
    "name": "ipython",
    "version": 3
   },
   "file_extension": ".py",
   "mimetype": "text/x-python",
   "name": "python",
   "nbconvert_exporter": "python",
   "pygments_lexer": "ipython3",
   "version": "3.7.10"
  }
 },
 "nbformat": 4,
 "nbformat_minor": 5
}
